{
  "nbformat": 4,
  "nbformat_minor": 0,
  "metadata": {
    "colab": {
      "name": "Traffic Tweet nlp analysis.ipynb",
      "provenance": [],
      "authorship_tag": "ABX9TyMY9UK8R5RKuXCN02KSqIFF",
      "include_colab_link": true
    },
    "kernelspec": {
      "name": "python3",
      "display_name": "Python 3"
    }
  },
  "cells": [
    {
      "cell_type": "markdown",
      "metadata": {
        "id": "view-in-github",
        "colab_type": "text"
      },
      "source": [
        "<a href=\"https://colab.research.google.com/github/RK-05/Freelance/blob/main/Traffic_Tweet_nlp_analysis.ipynb\" target=\"_parent\"><img src=\"https://colab.research.google.com/assets/colab-badge.svg\" alt=\"Open In Colab\"/></a>"
      ]
    },
    {
      "cell_type": "code",
      "metadata": {
        "id": "ABhOdXpenFhd"
      },
      "source": [
        "import pandas as pd"
      ],
      "execution_count": null,
      "outputs": []
    },
    {
      "cell_type": "code",
      "metadata": {
        "id": "2_6b9MEXx4rz"
      },
      "source": [
        "!pip install texthero"
      ],
      "execution_count": null,
      "outputs": []
    },
    {
      "cell_type": "code",
      "metadata": {
        "id": "2ND_f_GJx0iB",
        "colab": {
          "base_uri": "https://localhost:8080/"
        },
        "outputId": "6a3e7112-3803-43f4-b7ce-87edc023a899"
      },
      "source": [
        "import texthero as hero"
      ],
      "execution_count": null,
      "outputs": [
        {
          "output_type": "stream",
          "text": [
            "[nltk_data] Downloading package stopwords to /root/nltk_data...\n",
            "[nltk_data]   Unzipping corpora/stopwords.zip.\n"
          ],
          "name": "stderr"
        }
      ]
    },
    {
      "cell_type": "code",
      "metadata": {
        "id": "2_9rI2-40QGE"
      },
      "source": [
        "!pip install flair\r\n",
        "!pip install sentence-transformers\r\n",
        "from flair.data import Sentence\r\n",
        "from flair.embeddings import SentenceTransformerDocumentEmbeddings"
      ],
      "execution_count": null,
      "outputs": []
    },
    {
      "cell_type": "markdown",
      "metadata": {
        "id": "N5BmRRNVdUvY"
      },
      "source": [
        "**Task - Extract the most common reason of road congestion**"
      ]
    },
    {
      "cell_type": "code",
      "metadata": {
        "colab": {
          "base_uri": "https://localhost:8080/",
          "height": 407
        },
        "id": "R-W7DsC2nQ8G",
        "outputId": "4bb71b7b-2f6a-4efd-b324-4faff5fb5197"
      },
      "source": [
        "df = pd.read_excel('Test-Data.xlsx')\r\n",
        "df"
      ],
      "execution_count": null,
      "outputs": [
        {
          "output_type": "execute_result",
          "data": {
            "text/html": [
              "<div>\n",
              "<style scoped>\n",
              "    .dataframe tbody tr th:only-of-type {\n",
              "        vertical-align: middle;\n",
              "    }\n",
              "\n",
              "    .dataframe tbody tr th {\n",
              "        vertical-align: top;\n",
              "    }\n",
              "\n",
              "    .dataframe thead th {\n",
              "        text-align: right;\n",
              "    }\n",
              "</style>\n",
              "<table border=\"1\" class=\"dataframe\">\n",
              "  <thead>\n",
              "    <tr style=\"text-align: right;\">\n",
              "      <th></th>\n",
              "      <th>TimeStamp</th>\n",
              "      <th>Date</th>\n",
              "      <th>Time</th>\n",
              "      <th>Hour</th>\n",
              "      <th>Min</th>\n",
              "      <th>Sec</th>\n",
              "      <th>Tweet_Content</th>\n",
              "      <th>Retweet_Count</th>\n",
              "    </tr>\n",
              "  </thead>\n",
              "  <tbody>\n",
              "    <tr>\n",
              "      <th>0</th>\n",
              "      <td>2021-01-14 17:41:54+00:00</td>\n",
              "      <td>2021-01-14</td>\n",
              "      <td>17:41:54+00:00</td>\n",
              "      <td>17</td>\n",
              "      <td>41</td>\n",
              "      <td>54+00</td>\n",
              "      <td>Traffic is playing normal now from Gurumandir ...</td>\n",
              "      <td>0</td>\n",
              "    </tr>\n",
              "    <tr>\n",
              "      <th>1</th>\n",
              "      <td>2021-01-14 14:59:16+00:00</td>\n",
              "      <td>2021-01-14</td>\n",
              "      <td>14:59:16+00:00</td>\n",
              "      <td>14</td>\n",
              "      <td>59</td>\n",
              "      <td>16+00</td>\n",
              "      <td>Due to Protest by Transporters at Link road to...</td>\n",
              "      <td>3</td>\n",
              "    </tr>\n",
              "    <tr>\n",
              "      <th>2</th>\n",
              "      <td>2021-01-14 14:07:08+00:00</td>\n",
              "      <td>2021-01-14</td>\n",
              "      <td>14:07:08+00:00</td>\n",
              "      <td>14</td>\n",
              "      <td>7</td>\n",
              "      <td>08+00</td>\n",
              "      <td>Due to Protest by Transporters at Link road T ...</td>\n",
              "      <td>3</td>\n",
              "    </tr>\n",
              "    <tr>\n",
              "      <th>3</th>\n",
              "      <td>2021-01-14 13:46:21+00:00</td>\n",
              "      <td>2021-01-14</td>\n",
              "      <td>13:46:21+00:00</td>\n",
              "      <td>13</td>\n",
              "      <td>46</td>\n",
              "      <td>21+00</td>\n",
              "      <td>Due to Sewerage water at Rashid Minhas Road ne...</td>\n",
              "      <td>3</td>\n",
              "    </tr>\n",
              "    <tr>\n",
              "      <th>4</th>\n",
              "      <td>2021-01-14 12:51:55+00:00</td>\n",
              "      <td>2021-01-14</td>\n",
              "      <td>12:51:55+00:00</td>\n",
              "      <td>12</td>\n",
              "      <td>51</td>\n",
              "      <td>55+00</td>\n",
              "      <td>Large number of people visiting at Baba Nori S...</td>\n",
              "      <td>2</td>\n",
              "    </tr>\n",
              "    <tr>\n",
              "      <th>...</th>\n",
              "      <td>...</td>\n",
              "      <td>...</td>\n",
              "      <td>...</td>\n",
              "      <td>...</td>\n",
              "      <td>...</td>\n",
              "      <td>...</td>\n",
              "      <td>...</td>\n",
              "      <td>...</td>\n",
              "    </tr>\n",
              "    <tr>\n",
              "      <th>144</th>\n",
              "      <td>2021-01-02 03:31:40+00:00</td>\n",
              "      <td>2021-01-02</td>\n",
              "      <td>03:31:40+00:00</td>\n",
              "      <td>3</td>\n",
              "      <td>31</td>\n",
              "      <td>40+00</td>\n",
              "      <td>A Suzuki has broken down at Malir Nadi Bridge ...</td>\n",
              "      <td>0</td>\n",
              "    </tr>\n",
              "    <tr>\n",
              "      <th>145</th>\n",
              "      <td>2021-01-01 12:17:46+00:00</td>\n",
              "      <td>2021-01-01</td>\n",
              "      <td>12:17:46+00:00</td>\n",
              "      <td>12</td>\n",
              "      <td>17</td>\n",
              "      <td>46+00</td>\n",
              "      <td>, Rashid Minhas Rd, Millinium, Hassan Square, ...</td>\n",
              "      <td>0</td>\n",
              "    </tr>\n",
              "    <tr>\n",
              "      <th>146</th>\n",
              "      <td>2021-01-01 12:16:59+00:00</td>\n",
              "      <td>2021-01-01</td>\n",
              "      <td>12:16:59+00:00</td>\n",
              "      <td>12</td>\n",
              "      <td>16</td>\n",
              "      <td>59+00</td>\n",
              "      <td>*Due to office closing time traffic is moving ...</td>\n",
              "      <td>0</td>\n",
              "    </tr>\n",
              "    <tr>\n",
              "      <th>147</th>\n",
              "      <td>2020-12-31 18:49:55+00:00</td>\n",
              "      <td>2020-12-31</td>\n",
              "      <td>18:49:55+00:00</td>\n",
              "      <td>18</td>\n",
              "      <td>49</td>\n",
              "      <td>55+00</td>\n",
              "      <td>Large number of Heavy vehicles coming at, Jinn...</td>\n",
              "      <td>1</td>\n",
              "    </tr>\n",
              "    <tr>\n",
              "      <th>148</th>\n",
              "      <td>2020-12-31 15:19:54+00:00</td>\n",
              "      <td>2020-12-31</td>\n",
              "      <td>15:19:54+00:00</td>\n",
              "      <td>15</td>\n",
              "      <td>19</td>\n",
              "      <td>54+00</td>\n",
              "      <td>Broken down Trailer has been removed from Qazz...</td>\n",
              "      <td>0</td>\n",
              "    </tr>\n",
              "  </tbody>\n",
              "</table>\n",
              "<p>149 rows × 8 columns</p>\n",
              "</div>"
            ],
            "text/plain": [
              "                     TimeStamp  ... Retweet_Count\n",
              "0    2021-01-14 17:41:54+00:00  ...             0\n",
              "1    2021-01-14 14:59:16+00:00  ...             3\n",
              "2    2021-01-14 14:07:08+00:00  ...             3\n",
              "3    2021-01-14 13:46:21+00:00  ...             3\n",
              "4    2021-01-14 12:51:55+00:00  ...             2\n",
              "..                         ...  ...           ...\n",
              "144  2021-01-02 03:31:40+00:00  ...             0\n",
              "145  2021-01-01 12:17:46+00:00  ...             0\n",
              "146  2021-01-01 12:16:59+00:00  ...             0\n",
              "147  2020-12-31 18:49:55+00:00  ...             1\n",
              "148  2020-12-31 15:19:54+00:00  ...             0\n",
              "\n",
              "[149 rows x 8 columns]"
            ]
          },
          "metadata": {
            "tags": []
          },
          "execution_count": 4
        }
      ]
    },
    {
      "cell_type": "code",
      "metadata": {
        "colab": {
          "base_uri": "https://localhost:8080/",
          "height": 54
        },
        "id": "rKdFcr4nnXkK",
        "outputId": "9de17e88-3e8c-438c-9736-91977dfab847"
      },
      "source": [
        "df['Tweet_Content'][0]"
      ],
      "execution_count": null,
      "outputs": [
        {
          "output_type": "execute_result",
          "data": {
            "application/vnd.google.colaboratory.intrinsic+json": {
              "type": "string"
            },
            "text/plain": [
              "'Traffic is playing normal now from Gurumandir towards Teen Hatti and Teen Hatti towards Gurumandir.\\nPlease drive carefully. \\nTraffic staff is present and managing traffic. \\n\\nTRAFFIC AWARENESS AND SOCIAL MEDIA UNIT DIG TRAFFIC KARACHI'"
            ]
          },
          "metadata": {
            "tags": []
          },
          "execution_count": 5
        }
      ]
    },
    {
      "cell_type": "code",
      "metadata": {
        "colab": {
          "base_uri": "https://localhost:8080/",
          "height": 54
        },
        "id": "4Ylnt29knfC8",
        "outputId": "ac1bcde5-9fbb-4914-868f-0933d78ad704"
      },
      "source": [
        "df['Tweet_Content'][1]"
      ],
      "execution_count": null,
      "outputs": [
        {
          "output_type": "execute_result",
          "data": {
            "application/vnd.google.colaboratory.intrinsic+json": {
              "type": "string"
            },
            "text/plain": [
              "'Due to Protest by Transporters at Link road towards Thatha, the road is closed for traffic, Traffic is diverted from Manzil Pump to Mehran Highway &amp; ZOT towards Port Qasim, please drive carefully.\\nTRAFFIC AWARENESS AND SOCIAL MEDIA UNIT DIG TRAFFIC KARACHI'"
            ]
          },
          "metadata": {
            "tags": []
          },
          "execution_count": 6
        }
      ]
    },
    {
      "cell_type": "code",
      "metadata": {
        "colab": {
          "base_uri": "https://localhost:8080/",
          "height": 54
        },
        "id": "Vzsh2kIvn_rH",
        "outputId": "2b1dab79-c1d8-4fc6-e382-3f9cdab6ebe4"
      },
      "source": [
        "df['Tweet_Content'][2]"
      ],
      "execution_count": null,
      "outputs": [
        {
          "output_type": "execute_result",
          "data": {
            "application/vnd.google.colaboratory.intrinsic+json": {
              "type": "string"
            },
            "text/plain": [
              "'Due to Protest by Transporters at Link road T Crossing, due to which Super Highway towards National Highway both sides roads are closed for traffic, All traffic are Lined up,\\n\\nTRAFFIC AWARENESS AND SOCIAL MEDIA UNIT DIG TRAFFIC KARACHI.'"
            ]
          },
          "metadata": {
            "tags": []
          },
          "execution_count": 7
        }
      ]
    },
    {
      "cell_type": "code",
      "metadata": {
        "colab": {
          "base_uri": "https://localhost:8080/",
          "height": 54
        },
        "id": "OK3iEEUpoBmP",
        "outputId": "602aaee9-77f5-42b3-b1f5-e3c8537ede37"
      },
      "source": [
        "df['Tweet_Content'][3]"
      ],
      "execution_count": null,
      "outputs": [
        {
          "output_type": "execute_result",
          "data": {
            "application/vnd.google.colaboratory.intrinsic+json": {
              "type": "string"
            },
            "text/plain": [
              "'Due to Sewerage water at Rashid Minhas Road near Raza Square towards Nipa, Traffic is moving slow, Please drive carefully.\\nTRAFFIC AWARENESS AND SOCIAL MEDIA UNIT DIG TRAFFIC KARACHI'"
            ]
          },
          "metadata": {
            "tags": []
          },
          "execution_count": 8
        }
      ]
    },
    {
      "cell_type": "code",
      "metadata": {
        "colab": {
          "base_uri": "https://localhost:8080/",
          "height": 54
        },
        "id": "Ls7aUEbToIRS",
        "outputId": "0b6d9892-0531-4faf-9232-7c683b88c103"
      },
      "source": [
        "df['Tweet_Content'][4]"
      ],
      "execution_count": null,
      "outputs": [
        {
          "output_type": "execute_result",
          "data": {
            "application/vnd.google.colaboratory.intrinsic+json": {
              "type": "string"
            },
            "text/plain": [
              "'Large number of people visiting at Baba Nori Shah Mazar. Due to which traffic is moving slow at Gurumandir towards Teen Hatti and Teen Hatti towards Guru Mandir.\\nPlease drive carefully. \\nTraffic staff is present and managing traffic.'"
            ]
          },
          "metadata": {
            "tags": []
          },
          "execution_count": 9
        }
      ]
    },
    {
      "cell_type": "code",
      "metadata": {
        "colab": {
          "base_uri": "https://localhost:8080/",
          "height": 54
        },
        "id": "DbAAav1aoKdt",
        "outputId": "6826e29f-438a-4221-85d2-71833dc6ca6e"
      },
      "source": [
        "df['Tweet_Content'][5]"
      ],
      "execution_count": null,
      "outputs": [
        {
          "output_type": "execute_result",
          "data": {
            "application/vnd.google.colaboratory.intrinsic+json": {
              "type": "string"
            },
            "text/plain": [
              "'Jinnah Bridge, ICI Chowk, Paracha Chowk, Maripur Rd, State Avenue Rd, Gulbai to Truck Ada, Bara Board, Manzil Pump towards Malir Halt and Korangi Road. \\n*Please drive carefully.*\\n2/3\\n\\n*TRAFFIC AWARENESS AND SOCIAL MEDIA UNIT DIG TRAFFIC KARACHI*'"
            ]
          },
          "metadata": {
            "tags": []
          },
          "execution_count": 10
        }
      ]
    },
    {
      "cell_type": "code",
      "metadata": {
        "colab": {
          "base_uri": "https://localhost:8080/",
          "height": 54
        },
        "id": "DD7tH-uioM0z",
        "outputId": "c8dfb2d4-73c3-4d91-ea8d-2b3fb08cf017"
      },
      "source": [
        "df['Tweet_Content'][6]"
      ],
      "execution_count": null,
      "outputs": [
        {
          "output_type": "execute_result",
          "data": {
            "application/vnd.google.colaboratory.intrinsic+json": {
              "type": "string"
            },
            "text/plain": [
              "'Abdullah Haroon Rd, Shahra-e-Faisal towards Airport, Do Talwar, Teen Talwar Rashid Minhas Rd, Millinium, Hassan Square,  Shahra-e-Pakistan Rd, SM Tofique Rd,  Sir Shah Suleman Rd,\\n2/2'"
            ]
          },
          "metadata": {
            "tags": []
          },
          "execution_count": 11
        }
      ]
    },
    {
      "cell_type": "code",
      "metadata": {
        "colab": {
          "base_uri": "https://localhost:8080/",
          "height": 54
        },
        "id": "G7Qn4wMWoVfh",
        "outputId": "45e108c7-821a-4cdf-9432-0125e73a5fab"
      },
      "source": [
        "df['Tweet_Content'][7]"
      ],
      "execution_count": null,
      "outputs": [
        {
          "output_type": "execute_result",
          "data": {
            "application/vnd.google.colaboratory.intrinsic+json": {
              "type": "string"
            },
            "text/plain": [
              "'*Due to office closing time traffic is moving slow at below roads.*\\n\\nZainab Market, Bolton Market, Mobile Market, Electronics Market, Gul Plaza, Zaibunnisa Street, Parking Plaza, Saddar Dawakhana, MA Jinnah Rd, II Chandriger Rd,\\n1/2'"
            ]
          },
          "metadata": {
            "tags": []
          },
          "execution_count": 12
        }
      ]
    },
    {
      "cell_type": "code",
      "metadata": {
        "colab": {
          "base_uri": "https://localhost:8080/",
          "height": 54
        },
        "id": "oH9Fh26Qona-",
        "outputId": "2ab49223-a80b-4422-b36c-8c0cf4722d54"
      },
      "source": [
        "df['Tweet_Content'][8]"
      ],
      "execution_count": null,
      "outputs": [
        {
          "output_type": "execute_result",
          "data": {
            "application/vnd.google.colaboratory.intrinsic+json": {
              "type": "string"
            },
            "text/plain": [
              "'Development work at Teen Hatti towards Guru Mandir, due to which traffic is moving slow.\\nPlease drive carefully.\\nTraffic staff is present and managing traffic.\\nTRAFFIC AWARENESS AND SOCIAL MEDIA UNIT DIG TRAFFIC KARACHI.'"
            ]
          },
          "metadata": {
            "tags": []
          },
          "execution_count": 13
        }
      ]
    },
    {
      "cell_type": "code",
      "metadata": {
        "colab": {
          "base_uri": "https://localhost:8080/",
          "height": 54
        },
        "id": "K4Btg-7fotPd",
        "outputId": "9ca90849-5578-4291-bde3-1edb5cc75be7"
      },
      "source": [
        "df['Tweet_Content'][9]"
      ],
      "execution_count": null,
      "outputs": [
        {
          "output_type": "execute_result",
          "data": {
            "application/vnd.google.colaboratory.intrinsic+json": {
              "type": "string"
            },
            "text/plain": [
              "'Due to office timing traffic is moving slow at below roads,\\nShahra-e-Faisal, Star Gate, university Road, Millinium, PP Chowrangi, Metropole, Stadium towards City. \\n\\nTraffic staff is present and managing traffic.\\nTRAFFIC AWARENESS AND SOCIAL MEDIA UNIT DIG TRAFFIC KARACHI'"
            ]
          },
          "metadata": {
            "tags": []
          },
          "execution_count": 14
        }
      ]
    },
    {
      "cell_type": "code",
      "metadata": {
        "colab": {
          "base_uri": "https://localhost:8080/",
          "height": 54
        },
        "id": "INF4zxPQot8M",
        "outputId": "91b1c15a-27af-48f0-e341-76d59ac983f1"
      },
      "source": [
        "df['Tweet_Content'][10]"
      ],
      "execution_count": null,
      "outputs": [
        {
          "output_type": "execute_result",
          "data": {
            "application/vnd.google.colaboratory.intrinsic+json": {
              "type": "string"
            },
            "text/plain": [
              "'Traffic is playing normal now from Ghani chowrangi to Semines Chowrangi, please drive carefully. \\nTRAFFIC AWARENESS AND SOCIAL MEDIA UNIT DIG TRAFFIC KARACHI.'"
            ]
          },
          "metadata": {
            "tags": []
          },
          "execution_count": 15
        }
      ]
    },
    {
      "cell_type": "markdown",
      "metadata": {
        "id": "npzWJfACdsdn"
      },
      "source": [
        "**As it is evident that words like slow,normal,heavy indicate traffic situation in almost every tweet and due to is used in most of the tweets to provide the reason for the traffic jam. So we can make use of this words to find the reason**"
      ]
    },
    {
      "cell_type": "code",
      "metadata": {
        "colab": {
          "base_uri": "https://localhost:8080/"
        },
        "id": "XDGU37ZXouxp",
        "outputId": "5c34d3e7-6abf-4246-c7e3-15fdd2359f8f"
      },
      "source": [
        "a=0\r\n",
        "b=0\r\n",
        "for i in range(len(df)):\r\n",
        "  if 'slow' in df['Tweet_Content'][i] or 'normal' in df['Tweet_Content'][i]:\r\n",
        "    a+=1\r\n",
        "  elif 'due to' in df['Tweet_Content'][i]:\r\n",
        "    b+=1\r\n",
        "  else:\r\n",
        "    print(df['Tweet_Content'][i])\r\n",
        "print(a,len(df))"
      ],
      "execution_count": null,
      "outputs": [
        {
          "output_type": "stream",
          "text": [
            "Due to Protest by Transporters at Link road towards Thatha, the road is closed for traffic, Traffic is diverted from Manzil Pump to Mehran Highway &amp; ZOT towards Port Qasim, please drive carefully.\n",
            "TRAFFIC AWARENESS AND SOCIAL MEDIA UNIT DIG TRAFFIC KARACHI\n",
            "Jinnah Bridge, ICI Chowk, Paracha Chowk, Maripur Rd, State Avenue Rd, Gulbai to Truck Ada, Bara Board, Manzil Pump towards Malir Halt and Korangi Road. \n",
            "*Please drive carefully.*\n",
            "2/3\n",
            "\n",
            "*TRAFFIC AWARENESS AND SOCIAL MEDIA UNIT DIG TRAFFIC KARACHI*\n",
            "Abdullah Haroon Rd, Shahra-e-Faisal towards Airport, Do Talwar, Teen Talwar Rashid Minhas Rd, Millinium, Hassan Square,  Shahra-e-Pakistan Rd, SM Tofique Rd,  Sir Shah Suleman Rd,\n",
            "2/2\n",
            "Shahra-e-Faisal towards Airport, Do Talwar, Teen Talwar Rashid Minhas Rd, Millinium, Hassan Square, Shahra-e-Pakistan Rd, SM Tofique Rd,  Sir Shah Suleman Rd,  Jinnah Bridge, ICI Chowk, Paracha Chowk, Maripur Rd, State Avenue Rd, Gulbai to Truck Ada, Bara Board,\n",
            "2/2\n",
            "to Truck Ada, Bara Board, Manzil Pump towards Malir Halt and Korangi Road. \n",
            "*Please drive carefully.*\n",
            "\n",
            "*TRAFFIC AWARENESS AND SOCIAL MEDIA UNIT DIG TRAFFIC KARACHI*.     3/3\n",
            "Shahra-e-Faisal towards Airport, Do Talwar, Teen Talwar Rashid Minhas Rd, Millinium, Hassan Square,  Shahra-e-Pakistan Rd, SM Tofique Rd,  Sir Shah Suleman Rd,  Jinnah Bridge, ICI Chowk, Paracha Chowk, Maripur Rd, State Avenue Rd, Gulbai   2/3....\n",
            "Protest has been finshed from Awami Colony Korangi No.5 towards Landhi, road is opened now for traffic, please drive carefully.\n",
            "\n",
            "TRAFFIC AWARENESS AND SOCIAL MEDIA UNIT DIG TRAFFIC KARACHI.\n",
            "Burns Road food streed closed for traffic, while traffic diversion is continue from Court Road towards MR Kiyani and Fresco towards Jama Cloth.\n",
            "\n",
            "TRAFFIC AWARENESS AND SOCIAL MEDIA UNIT\n",
            "DIG TRAFFIC KARACHI.\n",
            "Protest finished from front of the Sindh Assembly Main Gate. Assembly Road is opened for traffic. All traffic divertion are finished.\n",
            "Please drive carefully.\n",
            "\n",
            "TRAFFIC AWARENESS AND SOCIAL MEDIA UNIT DIG TRAFFIC KARACHI\n",
            "Political Party started Protest at front of Sindh Assembly Main Gate. Due to which Assembly Road closed for traffic. Traffic has been diverted to M R Kyani to Shaheen Complex Fawara and Court road to Burns road. \n",
            "Please drive carefully.\n",
            "As per press release regarding the Riligious Party protests have been finshed.\n",
            "All traffic diversions &amp; roads have been opened for traffic. \n",
            "Traffic is moving as usual now. \n",
            "Please drive carefully. \n",
            "\n",
            "TRAFFIC AWARENESS AND SOCIAL MEDIA UNIT \n",
            "DIG TRAFFIC KARACHI\n",
            "Due to protest at Al Habib University road near Rabia City, Johar towards Airport both sides road are closed for traffic, Commuters are requested please use alternate routes to avoid inconvenience.\n",
            "\n",
            "TRAFFIC AWARENESS AND SOCIAL MEDIA UNIT DIG TRAFFIC KARACHI https://t.co/zqttM3hmyE\n",
            "The Riligious Party protesting at below roads. https://t.co/HzZPz9wlB6\n",
            "Traffic staff is present and managing traffic.\n",
            "TRAFFIC AWARENESS AND SOCIAL MEDIA UNIT DIG TRAFFIC KARACHI.\n",
            "1/2\n",
            "CNG Pump continue.\n",
            "Please drive carefully.\n",
            "\n",
            "TRAFFIC AWARENESS AND SOCIAL MEDIA UNIT\n",
            "DIG TRAFFIC KARACHI\n",
            "\n",
            "2/2\n",
            "Due to protest at Ziauddin Chowrangi, Ziauddin to Landi Kotal both side roads are closed for traffic, Traffic is playing continue from Moosa Colony towards Ziauddin, Please drive carefully.\n",
            "\n",
            "TRAFFIC AWARENESS AND SOCIAL MEDIA UNIT DIG TRAFFIC KARACHI https://t.co/w1PVLXBN4s\n",
            "Due to Protest at Peoples Chowrangi in front of DC Office, road is closed for traffic,\n",
            "Commuters are requested please use alternate routes.\n",
            "\n",
            "TRAFFIC AWARENESS AND SOCIAL MEDIA UNIT DIG TRAFFIC KARACHI\n",
            "Due to protest at Shah Faisal Colony Bridge towards Shahrah-e-Faisal both sides road closed for traffic, traffic is diverted from Shama Shopping Centre to Foji Foundation &amp; Traffic is being returned back from Star Gate, Please drive carefully, https://t.co/xXGRVa7K1Q\n",
            "Due to Protest at Nagan Chowrangi in front of Zainul Abedin imambargah, Nagan Bridge to Shafique Mor road is closed for traffic, Traffic is being diverted from Sakhi Hassan to Qalandria, please drive carefully. \n",
            "TRAFFIC AWARENESS AND SOCIAL MEDIA UNIT DIG TRAFFIC KARACHI.\n",
            "Due to protest at Main Tower, Road is closed for traffic, \n",
            "1. Traffic coming from II Chandriger Road to Tower is diverted to Tyre Street, \n",
            "2. Traffic coming from Jinnah Bridge to Tower is diverted to MT khan Road, please drive carefully. https://t.co/dm5cSFG8AA\n",
            "Bolton Market, Gul Plaza, Korangi road, Godam Chowrangi, Hino Chowrangi, Expressway, Causeway Rd, Chamra Chowrangi, Godam Chowrangi, Baloch Colony Bridge to shaheed Millat road, Please drive carefully, traffic staff is present and managing traffic.\n",
            "2/2\n",
            "The Riligious Party protesting at KDA flats towards sarjani Town Road is closed for traffic, traffic is plying double on other road.\n",
            "Please drive carefully.\n",
            "Traffic staff is present and managing traffic.\n",
            "TRAFFIC AWARENESS AND SOCIAL MEDIA UNIT DIG TRAFFIC KARACHI.\n",
            "The Riligious Party protesting at below roads. https://t.co/vDrOegqxLO\n",
            "Due to Protest at Safoora Chowrangi, Traffic is diverted from Malir Cantt Gate no .05 to Safoora Chowrangi and Gate no.06, Traffic is being on one-way from Mosmiyat towards Safoora Chowrangi, please drive carefully, traffic staff is present and managing traffic. https://t.co/cI2wq8UN0w\n",
            "Due to Protest at Nazimabad No:07 towards Board Office, the road is closed for traffic, Traffic is diverted from Nazimabad no.02 to Liaquatabad &amp; Nadria to Hassan Square, please drive carefully, traffic staff is present and managing traffic.\n",
            "Due to Protest at Steel Town chowk, National Highway both side roads are closed for Traffic,\n",
            "1. Traffic coming from Thata is diverted to Port Qasim.\n",
            "2. Traffic coming from City to Steel Town is diverted to Port Qasim.\n",
            "Please drive carefully,\n",
            "Due to Protest in the city at various intersection commuters are requested to use lyari expressway and northern bypass for out of city traveling, Please drive carefully.\n",
            "Traffic staff is present and managing traffic.\n",
            "TRAFFIC AWARENESS AND SOCIAL MEDIA UNIT DIG TRAFFIC KARACHI.\n",
            "ICI Chowk, Paracha Chowk, Light House, Maripur Rd, State Avenue Rd, Chamra Chowrangi, Godam Chowrangi, Gulbai to Truck Ada, Bara Board, Manzil Pump towards Malir Halt and Korangi Road, Baloch Colony Bridge towards Shaheed Millat Road.\n",
            "*Please drive carefully.*\n",
            "2/2\n",
            "Due to protest at Nazimabad Chowrangi #1, Lasbela towards Nazimabad Chowrangi #2 Road is closed for traffic, Traffic is diverted from Lasbella to Teen Hatti, please drive carefully, Traffic staff is present and managing traffic.\n",
            "Due to religious Party protesting infront of Safari Park. Maskan Chowrangi towards University road is closed for traffic. Commuters are requested please use alternat routes.\n",
            "Please drive carefully.\n",
            "TRAFFIC AWARENESS AND SOCIAL MEDIA UNIT DIG TRAFFIC KARACHI.\n",
            "Due to development work at 26 Badar towards Khayaban-e-sahar Road is closed for traffic, traffic is plying double on other road.\n",
            "Please drive carefully.\n",
            "Traffic staff is present and managing traffic.\n",
            "TRAFFIC AWARENESS AND SOCIAL MEDIA UNIT DIG TRAFFIC KARACHI.\n",
            "All roads are closed for Traffic, Commuters are requested please use alternate routes.\n",
            "Please drive carefully.\n",
            "Traffic staff is present and managing traffic. \n",
            "TRAFFIC AWARENESS AND SOCIAL MEDIA UNIT DIG TRAFFIC KARACHI.\n",
            "1/2\n",
            "The Religious Party protesting at Abul Hassan Isphani road near Abbas town. \n",
            "2) Power House to Nagan Chowrangi. \n",
            "3) Numaish Chowrangi to Nawa-e-Waqt. \n",
            "4) Kamran Chowrangi. \n",
            "5) Colony Gate. \n",
            "6) Malir 15 towards Quaidabad. 7) Shah Faisal Colony to city. \n",
            "8) Nipa Chowrangi.\n",
            "1/1\n",
            "Due to religious Party protesting at Nipa Chowrangi road is closed for traffic. Please use the alternat routes. \n",
            "Please drive carefully. \n",
            "Traffic staff is present and managing traffic. \n",
            "TRAFFIC AWARENESS AND SOCIAL MEDIA UNIT DIG TRAFFIC KARACHI.\n",
            "Due to Riligious Party protesting at Shah Faisal Colony Natha Khan bridge towards City Road is closed for traffic. Traffic diverted to Shah Faisal Colony towards Mill area.\n",
            "Traffic staff is present and managing traffic.\n",
            "TRAFFIC AWARENESS AND SOCIAL MEDIA UNIT DIG TRAFFIC KARACHI.\n",
            "inside streets continue.\n",
            "\n",
            "2. Quaidabad towards City traffic diverted to Alfalah Bridge to inside streets continue.\n",
            "Please drive carefully.\n",
            "\n",
            "TRAFFIC AWARENESS AND SOCIAL MEDIA UNIT\n",
            "DIG TRAFFIC KARACHI.\n",
            "\n",
            "2/2\n",
            "Due to protest at Numaish Chowrangi, roads are closed for traffic,\n",
            "DIVERSIONS:\n",
            "1. while traffic is diverted from 45 Congress to Gurumandir,\n",
            "2. Soldier Bazar no#3 to Police station Street,\n",
            "3. Capri to Saddar Dawakhana continue, Please drive carefully. https://t.co/OUUHsEWJQS\n",
            "Due to protest at Kamaran chowrangi, road is closed for traffic, while traffic is diverted from Monawar Chowrangi to Pehlwan Goth, Heavy traffic are Lined up on Mosmiyat, while Small vehicles are playing continue, Please drive carefully.\n",
            "Due to Protest at Numaish Chowrangi towards Nawa-e-Waqt, road is closed for traffic, while traffic is diverted alternate routes, please drive carefully traffic staff is present and managing traffic.\n",
            "\n",
            "TRAFFIC AWARENESS AND SOCIAL MEDIA UNIT DIG TRAFFIC KARACHI\n",
            "Due to Protest at Pawer House towards Nagan Chowrangi both sides road are closed for traffic, Commuters are requested please use alternate routes, please drive carefully, Traffic staff is present and managing traffic.\n",
            "\n",
            "TRAFFIC AWARENESS AND SOCIAL MEDIA UNIT\n",
            "DIG TRAFFIC KARACHI https://t.co/aj0oCP3RoK\n",
            "Due to Protest at Abul Hassan Isphani road  Abbas Town both roads are closed for traffic, While traffic is diverted from Paradise and Al-Asif Rangers Chowki continue, Please drive carefully, Traffic staff is present.\n",
            "\n",
            "TRAFFIC AWARENESS AND SOCIAL MEDIA UNIT\n",
            "DIG TRAFFIC KARACHI https://t.co/TqeWFIjDZQ\n",
            "Due to Protest at Abul Hassan Isphani road  Abbas Town both roads are closed for traffic, While traffic is diverted from Paradise and Al-Asif Rangers Chowki continue, Please drive carefully, Traffic staff is present, \n",
            "\n",
            "TRAFFIC AWARENESS AND SOCIAL MEDIA UNIT\n",
            "DIG TRAFFIC KARACHI\n",
            "Due to Protest at Power House towards Nagan Chowrangi road is closed for traffic, While traffic is diverted at Service road, please drive carefully, Traffic staff is present and managing traffic.\n",
            "\n",
            "TRAFFIC AWARENESS AND SOCIAL MEDIA UNIT\n",
            "DIG TRAFFIC KARACHI https://t.co/NHSaBRKDne\n",
            "Due to Protest at Pawer House towards Nagan Chowrangi road is closed for traffic, While traffic is diverted at Service road, please drive carefully, Traffic staff is present and managing traffic.\n",
            "\n",
            "TRAFFIC AWARENESS AND SOCIAL MEDIA UNIT\n",
            "DIG TRAFFIC KARACHI\n",
            "Protest has been started at Kamaran chowrangi. Traffic diverted  Kamaran chowrangi to Munawar Chowrangi. \n",
            "Please drive carefully.\n",
            "\n",
            "TRAFFIC AWARENESS AND SOCIAL MEDIA UNIT DIG TRAFFIC KARACHI\n",
            "Protest has been started at Abbas town Abu-l-isfahani road. Due to which Gulshan towards Super Highway road is closed for traffic. Traffic diverted to Gulshan to Paradise.\n",
            "Please drive carefully.\n",
            "\n",
            "TRAFFIC AWARENESS AND SOCIAL MEDIA UNIT DIG TRAFFIC KARACHI\n",
            "Paracha Chowk, Maripur Rd, State Avenue Rd, Gulbai to Truck Ada, Bara Board, Manzil Pump towards Malir Halt and Korangi Road. \n",
            "*Please drive carefully.*\n",
            "\n",
            "*TRAFFIC AWARENESS AND SOCIAL MEDIA UNIT DIG TRAFFIC KARACHI*.         3/3\n",
            "Shahra-e-Faisal towards Airport, Do Talwar, Teen Talwar Rashid Minhas Rd, Millinium, Hassan Square,  Shahra-e-Pakistan Rd, SM Tofique Rd,  Sir Shah Suleman Rd,  Jinnah Bridge, ICI Chowk, 2/3.....\n",
            "Protest has been finished from City Chowk Near Habib Bank,  II Chandriger both roads are opened for traffic,  \n",
            "Please drive carefully.\n",
            "Traffic staff is present and managing traffic.\n",
            "\n",
            "TRAFFIC AWARENESS AND SOCIAL MEDIA UNIT \n",
            "DIG TRAFFIC KARACHI.\n",
            "An Oil Tanker has broken down at Aisha Manzil Bridge towards Karimabad, Please drive carefully, Traffic staff is present and managing traffic.\n",
            "\n",
            "TRAFFIC AWARENESS AND SOCIAL MEDIA UNIT\n",
            "DIG TRAFFIC KARACHI\n",
            "Road carpeting WORK has been finished Mehran Underpass towards Saddar, Please drive carefully, Traffic staff is present and managing traffic.\n",
            "\n",
            "TRAFFIC AWARENESS AND SOCIAL MEDIA UNIT\n",
            "DIG TRAFFIC KARACHI\n",
            "Steel Mill &amp; PIA Employees are protesting against for Jobs reinstated at Press Club, Please drive carefully, Traffic staff is present and managing traffic.\n",
            "\n",
            "TRAFFIC AWARENESS AND SOCIAL MEDIA UNIT\n",
            "DIG TRAFFIC KARACHI\n",
            "Due to road carpeting work at Mehran Underpass towards Saddar, Please drive carefully, Traffic staff is present and managing traffic.\n",
            "\n",
            "TRAFFIC AWARENESS AND SOCIAL MEDIA UNIT\n",
            "DIG TRAFFIC KARACHI\n",
            "Due to sewerage water at Board Office Rangers Cut, Please drive carefully, Traffic staff is present and managing traffic.\n",
            "\n",
            "TRAFFIC AWARENESS AND SOCIAL MEDIA UNIT\n",
            "DIG TRAFFIC KARACHI\n",
            "Broken down Mini Bus has been removed from Malir Nadi Bridge towards Quaidabad, Please drive carefully, Traffic staff is present and managing traffic.\n",
            "\n",
            "TRAFFIC AWARENESS AND SOCIAL MEDIA UNIT\n",
            "DIG TRAFFIC KARACHI\n",
            "Broken down Suzuki has been removed from Malir Nadi Bridge towards Quaidabad, Please drive carefully, Traffic staff is present and managing traffic.\n",
            "\n",
            "TRAFFIC AWARENESS AND SOCIAL MEDIA UNIT\n",
            "DIG TRAFFIC KARACHI\n",
            ", Rashid Minhas Rd, Millinium, Hassan Square,  Shahra-e-Pakistan Rd, SM Tofique Rd,  Sir Shah Suleman Rd,  Jinnah Bridge, ICI Chowk, Paracha Chowk, Maripur Rd, State Avenue Rd, Gulbai to Truck Ada, Bara Board, Manzil Pump towards Malir Halt and Korangi Road.\n",
            "2/2\n",
            "79 149\n"
          ],
          "name": "stdout"
        }
      ]
    },
    {
      "cell_type": "code",
      "metadata": {
        "colab": {
          "base_uri": "https://localhost:8080/"
        },
        "id": "FtlEk_E8rX1L",
        "outputId": "db198101-6653-47f6-da30-c570ce9968d6"
      },
      "source": [
        "a=0\r\n",
        "b=0\r\n",
        "for i in range(len(df)):\r\n",
        "  if 'due to' in df['Tweet_Content'][i].lower():\r\n",
        "    b+=1\r\n",
        "  else:\r\n",
        "    print(df['Tweet_Content'][i])\r\n",
        "print(b,len(df))"
      ],
      "execution_count": null,
      "outputs": [
        {
          "output_type": "stream",
          "text": [
            "Traffic is playing normal now from Gurumandir towards Teen Hatti and Teen Hatti towards Gurumandir.\n",
            "Please drive carefully. \n",
            "Traffic staff is present and managing traffic. \n",
            "\n",
            "TRAFFIC AWARENESS AND SOCIAL MEDIA UNIT DIG TRAFFIC KARACHI\n",
            "Jinnah Bridge, ICI Chowk, Paracha Chowk, Maripur Rd, State Avenue Rd, Gulbai to Truck Ada, Bara Board, Manzil Pump towards Malir Halt and Korangi Road. \n",
            "*Please drive carefully.*\n",
            "2/3\n",
            "\n",
            "*TRAFFIC AWARENESS AND SOCIAL MEDIA UNIT DIG TRAFFIC KARACHI*\n",
            "Abdullah Haroon Rd, Shahra-e-Faisal towards Airport, Do Talwar, Teen Talwar Rashid Minhas Rd, Millinium, Hassan Square,  Shahra-e-Pakistan Rd, SM Tofique Rd,  Sir Shah Suleman Rd,\n",
            "2/2\n",
            "Traffic is playing normal now from Ghani chowrangi to Semines Chowrangi, please drive carefully. \n",
            "TRAFFIC AWARENESS AND SOCIAL MEDIA UNIT DIG TRAFFIC KARACHI.\n",
            "Accident Vehicles has been removed from Millennium towards Nipa, Traffic is getting normal now, please drive carefully. \n",
            "\n",
            "TRAFFIC AWARENESS AND SOCIAL MEDIA UNIT DIG TRAFFIC KARACHI\n",
            "Shahra-e-Faisal towards Airport, Do Talwar, Teen Talwar Rashid Minhas Rd, Millinium, Hassan Square, Shahra-e-Pakistan Rd, SM Tofique Rd,  Sir Shah Suleman Rd,  Jinnah Bridge, ICI Chowk, Paracha Chowk, Maripur Rd, State Avenue Rd, Gulbai to Truck Ada, Bara Board,\n",
            "2/2\n",
            "Traffic is moving normal now from Gate #15 towards Kemari.\n",
            "Please drive safe.\n",
            "\n",
            "TRAFFIC AWARENESS AND SOCIAL MEDIA UNIT\n",
            "DIG TRAFFIC KARACHI\n",
            "Traffic is moving normal now from Teen Hatti towards Guru Mandir.\n",
            "Please drive safe.\n",
            "\n",
            "TRAFFIC AWARENESS AND SOCIAL MEDIA UNIT\n",
            "DIG TRAFFIC KARACHI\n",
            "Broken down Oil Tanker has been removed from NLC towards Jinnah bridge near the  FIA cut, Traffic is getting normal now, Please drive carefully.\n",
            "\n",
            "TRAFFIC AWARENESS AND SOCIAL MEDIA UNIT DIG TRAFFIC KARACHI.\n",
            "to Truck Ada, Bara Board, Manzil Pump towards Malir Halt and Korangi Road. \n",
            "*Please drive carefully.*\n",
            "\n",
            "*TRAFFIC AWARENESS AND SOCIAL MEDIA UNIT DIG TRAFFIC KARACHI*.     3/3\n",
            "Shahra-e-Faisal towards Airport, Do Talwar, Teen Talwar Rashid Minhas Rd, Millinium, Hassan Square,  Shahra-e-Pakistan Rd, SM Tofique Rd,  Sir Shah Suleman Rd,  Jinnah Bridge, ICI Chowk, Paracha Chowk, Maripur Rd, State Avenue Rd, Gulbai   2/3....\n",
            "Protest has been finshed from Awami Colony Korangi No.5 towards Landhi, road is opened now for traffic, please drive carefully.\n",
            "\n",
            "TRAFFIC AWARENESS AND SOCIAL MEDIA UNIT DIG TRAFFIC KARACHI.\n",
            "Broken down Dumper has been removed from Hassan Square towards New Town on first track, Traffic is getting normal now, Please drive carefully,\n",
            "\n",
            " TRAFFIC AWARENESS AND SOCIAL MEDIA UNIT DIG TRAFFIC KARACHI\n",
            "Traffic is moving normal now from Ghani Chowrangi towards Siemens Chowrangi.\n",
            "Please drive safe.\n",
            "\n",
            "TRAFFIC AWARENESS AND SOCIAL MEDIA UNIT\n",
            "DIG TRAFFIC KARACHI\n",
            "Traffic is moving normal now from Teen Hatti towards Guru Mandir.\n",
            "Please drive safe.\n",
            "\n",
            "TRAFFIC AWARENESS AND SOCIAL MEDIA UNIT\n",
            "DIG TRAFFIC KARACHI\n",
            "Burns Road food streed closed for traffic, while traffic diversion is continue from Court Road towards MR Kiyani and Fresco towards Jama Cloth.\n",
            "\n",
            "TRAFFIC AWARENESS AND SOCIAL MEDIA UNIT\n",
            "DIG TRAFFIC KARACHI.\n",
            "Protest finished from front of the Sindh Assembly Main Gate. Assembly Road is opened for traffic. All traffic divertion are finished.\n",
            "Please drive carefully.\n",
            "\n",
            "TRAFFIC AWARENESS AND SOCIAL MEDIA UNIT DIG TRAFFIC KARACHI\n",
            "Traffic is moving normal in all area's of the City.\n",
            "Please drive safe.\n",
            "\n",
            "TRAFFIC AWARENESS AND SOCIAL MEDIA UNIT\n",
            "DIG TRAFFIC KARACHI.\n",
            "Traffic is moving normal now from Teen Hatti towards Guru Mandir.\n",
            "Please drive safe.\n",
            "\n",
            "TRAFFIC AWARENESS AND SOCIAL MEDIA UNIT\n",
            "DIG TRAFFIC KARACHI\n",
            "As per press release regarding the Riligious Party protests have been finshed.\n",
            "All traffic diversions &amp; roads have been opened for traffic. \n",
            "Traffic is moving as usual now. \n",
            "Please drive carefully. \n",
            "\n",
            "TRAFFIC AWARENESS AND SOCIAL MEDIA UNIT \n",
            "DIG TRAFFIC KARACHI\n",
            "The Riligious Party protesting at below roads. https://t.co/HzZPz9wlB6\n",
            "Traffic staff is present and managing traffic.\n",
            "TRAFFIC AWARENESS AND SOCIAL MEDIA UNIT DIG TRAFFIC KARACHI.\n",
            "1/2\n",
            "CNG Pump continue.\n",
            "Please drive carefully.\n",
            "\n",
            "TRAFFIC AWARENESS AND SOCIAL MEDIA UNIT\n",
            "DIG TRAFFIC KARACHI\n",
            "\n",
            "2/2\n",
            "A Loaded Trailer has broken down at Jam Sadiq Bridge ramp towards Godam Chowrangi, traffic is moving slow from sides.\n",
            "Please drive carefully.\n",
            "Traffic staff is present and managing traffic.\n",
            "TRAFFIC AWARENESS AND SOCIAL MEDIA UNIT DIG TRAFFIC KARACHI\n",
            "Religious Party Peoples have been removed from Jama Cloth Near Alam shah Bukhari Mazar, Traffic is getting normal now from Tibet Centre to Jama cloth, please drive carefully.\n",
            "TRAFFIC AWARENESS AND SOCIAL MEDIA UNIT DIG TRAFFIC KARACHI.\n",
            "Bolton Market, Gul Plaza, Korangi road, Godam Chowrangi, Hino Chowrangi, Expressway, Causeway Rd, Chamra Chowrangi, Godam Chowrangi, Baloch Colony Bridge to shaheed Millat road, Please drive carefully, traffic staff is present and managing traffic.\n",
            "2/2\n",
            "The Riligious Party protesting at KDA flats towards sarjani Town Road is closed for traffic, traffic is plying double on other road.\n",
            "Please drive carefully.\n",
            "Traffic staff is present and managing traffic.\n",
            "TRAFFIC AWARENESS AND SOCIAL MEDIA UNIT DIG TRAFFIC KARACHI.\n",
            "The Riligious Party protesting at below roads. https://t.co/vDrOegqxLO\n",
            "Broken down Trailer removed from Bashir Siddique Cut towards Gulbai.\n",
            "Traffic is getting normal now.\n",
            "Please drive carefully.\n",
            "\n",
            "TRAFFIC AWARENESS AND SOCIAL MEDIA UNIT\n",
            "DIG TRAFFIC KARACHI.\n",
            "ICI Chowk, Paracha Chowk, Light House, Maripur Rd, State Avenue Rd, Chamra Chowrangi, Godam Chowrangi, Gulbai to Truck Ada, Bara Board, Manzil Pump towards Malir Halt and Korangi Road, Baloch Colony Bridge towards Shaheed Millat Road.\n",
            "*Please drive carefully.*\n",
            "2/2\n",
            "A Broken down vehicle has been removed from express way towards Qayumabad. Traffic is playing normal now.\n",
            "Please drive carefully.\n",
            "Traffic staff is present and managing traffic.\n",
            "TRAFFIC AWARENESS AND SOCIAL MEDIA UNIT DIG TRAFFIC KARACHI.\n",
            "All roads are closed for Traffic, Commuters are requested please use alternate routes.\n",
            "Please drive carefully.\n",
            "Traffic staff is present and managing traffic. \n",
            "TRAFFIC AWARENESS AND SOCIAL MEDIA UNIT DIG TRAFFIC KARACHI.\n",
            "1/2\n",
            "The Religious Party protesting at Abul Hassan Isphani road near Abbas town. \n",
            "2) Power House to Nagan Chowrangi. \n",
            "3) Numaish Chowrangi to Nawa-e-Waqt. \n",
            "4) Kamran Chowrangi. \n",
            "5) Colony Gate. \n",
            "6) Malir 15 towards Quaidabad. 7) Shah Faisal Colony to city. \n",
            "8) Nipa Chowrangi.\n",
            "1/1\n",
            "inside streets continue.\n",
            "\n",
            "2. Quaidabad towards City traffic diverted to Alfalah Bridge to inside streets continue.\n",
            "Please drive carefully.\n",
            "\n",
            "TRAFFIC AWARENESS AND SOCIAL MEDIA UNIT\n",
            "DIG TRAFFIC KARACHI.\n",
            "\n",
            "2/2\n",
            "Traffic is moving normal now from Liaquatabad #10 towards Gharibabad.\n",
            "Please drive safe.\n",
            "\n",
            "TRAFFIC AWARENESS AND SOCIAL MEDIA UNIT\n",
            "DIG TRAFFIC KARACHI\n",
            "Protest has been started at Kamaran chowrangi. Traffic diverted  Kamaran chowrangi to Munawar Chowrangi. \n",
            "Please drive carefully.\n",
            "\n",
            "TRAFFIC AWARENESS AND SOCIAL MEDIA UNIT DIG TRAFFIC KARACHI\n",
            "Paracha Chowk, Maripur Rd, State Avenue Rd, Gulbai to Truck Ada, Bara Board, Manzil Pump towards Malir Halt and Korangi Road. \n",
            "*Please drive carefully.*\n",
            "\n",
            "*TRAFFIC AWARENESS AND SOCIAL MEDIA UNIT DIG TRAFFIC KARACHI*.         3/3\n",
            "Shahra-e-Faisal towards Airport, Do Talwar, Teen Talwar Rashid Minhas Rd, Millinium, Hassan Square,  Shahra-e-Pakistan Rd, SM Tofique Rd,  Sir Shah Suleman Rd,  Jinnah Bridge, ICI Chowk, 2/3.....\n",
            "Protest has been finished from City Chowk Near Habib Bank,  II Chandriger both roads are opened for traffic,  \n",
            "Please drive carefully.\n",
            "Traffic staff is present and managing traffic.\n",
            "\n",
            "TRAFFIC AWARENESS AND SOCIAL MEDIA UNIT \n",
            "DIG TRAFFIC KARACHI.\n",
            "Traffic is moving normal in all area's of the City.\n",
            "Please drive safe.\n",
            "\n",
            "TRAFFIC AWARENESS AND SOCIAL MEDIA UNIT\n",
            "DIG TRAFFIC KARACHI\n",
            "An Oil Tanker has broken down at Aisha Manzil Bridge towards Karimabad, Please drive carefully, Traffic staff is present and managing traffic.\n",
            "\n",
            "TRAFFIC AWARENESS AND SOCIAL MEDIA UNIT\n",
            "DIG TRAFFIC KARACHI\n",
            "Road carpeting WORK has been finished Mehran Underpass towards Saddar, Please drive carefully, Traffic staff is present and managing traffic.\n",
            "\n",
            "TRAFFIC AWARENESS AND SOCIAL MEDIA UNIT\n",
            "DIG TRAFFIC KARACHI\n",
            "Steel Mill &amp; PIA Employees are protesting against for Jobs reinstated at Press Club, Please drive carefully, Traffic staff is present and managing traffic.\n",
            "\n",
            "TRAFFIC AWARENESS AND SOCIAL MEDIA UNIT\n",
            "DIG TRAFFIC KARACHI\n",
            "Traffic is moving normal in all area's of the City.\n",
            "Please drive safe.\n",
            "\n",
            "TRAFFIC AWARENESS AND SOCIAL MEDIA UNIT\n",
            "DIG TRAFFIC KARACHI\n",
            "Water pipeline leakage near Chota Gate towards City on Main Shahrah-e-faisal, causing slow movement of traffic.\n",
            "\n",
            "TRAFFIC AWARENESS AND SOCIAL MEDIA UNIT\n",
            "DIG TRAFFIC KARACHI.\n",
            "Nazimabad Underpass road is opened now for traffic, Traffic is getting normal now, please drive carefully.\n",
            "\n",
            "TRAFFIC AWARENESS AND SOCIAL MEDIA UNIT \n",
            "DIG TRAFFIC KARACHI.\n",
            "Traffic is playing normal now from Gulbai towards Hawksbay, please drive carefully.\n",
            "TRAFFIC AWARENESS AND SOCIAL MEDIA UNIT\n",
            "DIG TRAFFIC KARACHI\n",
            "Broken down Mini Bus has been removed from Malir Nadi Bridge towards Quaidabad, Please drive carefully, Traffic staff is present and managing traffic.\n",
            "\n",
            "TRAFFIC AWARENESS AND SOCIAL MEDIA UNIT\n",
            "DIG TRAFFIC KARACHI\n",
            "Broken down Suzuki has been removed from Malir Nadi Bridge towards Quaidabad, Please drive carefully, Traffic staff is present and managing traffic.\n",
            "\n",
            "TRAFFIC AWARENESS AND SOCIAL MEDIA UNIT\n",
            "DIG TRAFFIC KARACHI\n",
            ", Rashid Minhas Rd, Millinium, Hassan Square,  Shahra-e-Pakistan Rd, SM Tofique Rd,  Sir Shah Suleman Rd,  Jinnah Bridge, ICI Chowk, Paracha Chowk, Maripur Rd, State Avenue Rd, Gulbai to Truck Ada, Bara Board, Manzil Pump towards Malir Halt and Korangi Road.\n",
            "2/2\n",
            "Broken down Trailer has been removed from Qazzafi Town towards Younus Chowrangi traffic is moving normal now.\n",
            "Please drive carefully.\n",
            "\n",
            "TRAFFIC AWARENESS AND SOCIAL MEDIA UNIT DIG TRAFFIC KARACHI\n",
            "0 149\n"
          ],
          "name": "stdout"
        }
      ]
    },
    {
      "cell_type": "markdown",
      "metadata": {
        "id": "7O5_Dk0leRvU"
      },
      "source": [
        "***Text cleaning***"
      ]
    },
    {
      "cell_type": "code",
      "metadata": {
        "id": "HpuZ-bzPrr3Y"
      },
      "source": [
        "list_stop = ['TRAFFIC AWARENESS AND SOCIAL MEDIA UNIT','DIG TRAFFIC KARACHI','Please drive carefully','Please drive safe','Traffic staff present managing traffic','traffic awareness social media unit']"
      ],
      "execution_count": null,
      "outputs": []
    },
    {
      "cell_type": "code",
      "metadata": {
        "id": "6jjD6WH5y6Y6"
      },
      "source": [
        "from texthero import stopwords\r\n",
        "default_stopwords = stopwords.DEFAULT\r\n",
        "custom_stopwords = default_stopwords.union(set([i.lower() for i in list_stop]))"
      ],
      "execution_count": null,
      "outputs": []
    },
    {
      "cell_type": "code",
      "metadata": {
        "id": "PeyPsoB9rvFi"
      },
      "source": [
        "#df['cleaned_text'] = hero.remove_stopwords(df['Tweet_Content'],custom_stopwords)\r\n",
        "df['cleaned_text'] = hero.preprocessing.clean(df['Tweet_Content'])"
      ],
      "execution_count": null,
      "outputs": []
    },
    {
      "cell_type": "code",
      "metadata": {
        "colab": {
          "base_uri": "https://localhost:8080/",
          "height": 35
        },
        "id": "LTta4FbG53yg",
        "outputId": "18b2373a-8b1c-4e2c-f271-2cfbe62bcc7c"
      },
      "source": [
        "for i in list_stop:\r\n",
        "  df['cleaned_text'] = df['cleaned_text'].map(lambda x:x.replace(i.lower(),''))  \r\n",
        "df['cleaned_text'][0]"
      ],
      "execution_count": null,
      "outputs": [
        {
          "output_type": "execute_result",
          "data": {
            "application/vnd.google.colaboratory.intrinsic+json": {
              "type": "string"
            },
            "text/plain": [
              "'traffic playing normal gurumandir towards teen hatti teen hatti towards gurumandir    '"
            ]
          },
          "metadata": {
            "tags": []
          },
          "execution_count": 22
        }
      ]
    },
    {
      "cell_type": "code",
      "metadata": {
        "colab": {
          "base_uri": "https://localhost:8080/"
        },
        "id": "6tbfcoeczVLz",
        "outputId": "0edf9662-802b-49a3-9db7-cd558526fd3c"
      },
      "source": [
        "import nltk\r\n",
        "nltk.download('punkt')\r\n",
        "nltk.download('wordnet')"
      ],
      "execution_count": null,
      "outputs": [
        {
          "output_type": "stream",
          "text": [
            "[nltk_data] Downloading package punkt to /root/nltk_data...\n",
            "[nltk_data]   Unzipping tokenizers/punkt.zip.\n",
            "[nltk_data] Downloading package wordnet to /root/nltk_data...\n",
            "[nltk_data]   Unzipping corpora/wordnet.zip.\n"
          ],
          "name": "stderr"
        },
        {
          "output_type": "execute_result",
          "data": {
            "text/plain": [
              "True"
            ]
          },
          "metadata": {
            "tags": []
          },
          "execution_count": 23
        }
      ]
    },
    {
      "cell_type": "code",
      "metadata": {
        "id": "kv2i0EbB5Ell"
      },
      "source": [
        "from nltk.stem import WordNetLemmatizer\r\n",
        "lemm=WordNetLemmatizer()\r\n",
        "from nltk.tokenize import word_tokenize\r\n",
        "df['cleaned_text'] = df['cleaned_text'].map(lambda text:' '.join([lemm.lemmatize(word,pos='n') for word in word_tokenize(text.lower())]))\r\n",
        "#df['cleaned_text'] = hero.preprocessing.stem(df['cleaned_text'])"
      ],
      "execution_count": null,
      "outputs": []
    },
    {
      "cell_type": "code",
      "metadata": {
        "colab": {
          "base_uri": "https://localhost:8080/",
          "height": 35
        },
        "id": "2aBsJZTnycBW",
        "outputId": "50dba935-fc74-4da6-d8d2-309d9ff58d5c"
      },
      "source": [
        "(hero.clean(pd.Series(df['cleaned_text'][0]))).values[0]"
      ],
      "execution_count": null,
      "outputs": [
        {
          "output_type": "execute_result",
          "data": {
            "application/vnd.google.colaboratory.intrinsic+json": {
              "type": "string"
            },
            "text/plain": [
              "'traffic playing normal gurumandir towards teen hatti teen hatti towards gurumandir'"
            ]
          },
          "metadata": {
            "tags": []
          },
          "execution_count": 25
        }
      ]
    },
    {
      "cell_type": "markdown",
      "metadata": {
        "id": "Kgr0I0QZeXdl"
      },
      "source": [
        "***Two common pattern are being followed with due to reasoning that are:- 1. It starts with the sentence, 2. It is present in second half of the sentence***"
      ]
    },
    {
      "cell_type": "code",
      "metadata": {
        "id": "Blbo7KzqypPG"
      },
      "source": [
        "reason=[]\r\n",
        "for i in range(len(df)):\r\n",
        "    if 'due' in df['cleaned_text'][i]:\r\n",
        "      if (df['cleaned_text'][i].split())[0]=='due':\r\n",
        "        reason.append(' '.join(df['cleaned_text'][i].split()[1:4]))\r\n",
        "      else:\r\n",
        "        reason.append(' '.join(df['cleaned_text'][i].split('due')[0].split()[0:3]))"
      ],
      "execution_count": null,
      "outputs": []
    },
    {
      "cell_type": "code",
      "metadata": {
        "colab": {
          "base_uri": "https://localhost:8080/"
        },
        "id": "a8WpWEiZ3gQG",
        "outputId": "8283b963-677a-4ad7-c6b8-63beb09825c7"
      },
      "source": [
        "reason"
      ],
      "execution_count": null,
      "outputs": [
        {
          "output_type": "execute_result",
          "data": {
            "text/plain": [
              "['protest transporter link',\n",
              " 'protest transporter link',\n",
              " 'sewerage water rashid',\n",
              " 'large number people',\n",
              " 'office closing time',\n",
              " 'development work teen',\n",
              " 'office timing traffic',\n",
              " 'accident three vehicle',\n",
              " 'office closing time',\n",
              " 'pit water near',\n",
              " 'development work teen',\n",
              " 'office timing traffic',\n",
              " 'large number heavy',\n",
              " 'office closing time',\n",
              " 'excavation work sewerage',\n",
              " 'woman protesting shortage',\n",
              " 'dumper broken hassan',\n",
              " 'oil tanker broken',\n",
              " 'development work chamra',\n",
              " 'development work teen',\n",
              " 'office timing traffic',\n",
              " 'large number vehicle',\n",
              " 'traffic jam',\n",
              " 'end office hour',\n",
              " 'political party started',\n",
              " 'development work teen',\n",
              " 'office timing traffic',\n",
              " 'oil tanker broken',\n",
              " 'large number buyer',\n",
              " 'excavation work sewerage',\n",
              " 'excavation work sewerage',\n",
              " 'trailer overturned another',\n",
              " 'trailer overturned another',\n",
              " 'protest landhi towards',\n",
              " 'sewerage water corridor',\n",
              " 'protest al habib',\n",
              " 'riligious party protesting',\n",
              " 'riligious party protesting',\n",
              " 'star gate towards',\n",
              " 'riligious party protesting',\n",
              " 'protest ziauddin chowrangi',\n",
              " 'protest people chowrangi',\n",
              " 'protest shah faisal',\n",
              " 'protest nagan chowrangi',\n",
              " 'protest main tower',\n",
              " 'office closing time',\n",
              " 'religious party people',\n",
              " 'sewerage water board',\n",
              " 'protest gull baiy',\n",
              " 'trailer broken bashir',\n",
              " 'protest safoora chowrangi',\n",
              " 'protest nazimabad towards',\n",
              " 'protest ancholi sohrab',\n",
              " 'protest steel town',\n",
              " 'protest korangi',\n",
              " 'large number vehicle',\n",
              " 'protest city various',\n",
              " 'office closing time',\n",
              " 'protest nazimabad chowrangi',\n",
              " 'religious party protesting',\n",
              " 'vehicle broken express',\n",
              " 'development work badar',\n",
              " 'religious party protesting',\n",
              " 'riligious party protesting',\n",
              " 'riligious party protesting',\n",
              " 'riligious party protesting',\n",
              " 'large number vehicle',\n",
              " 'protest numaish chowrangi',\n",
              " 'truck fallen gulbai',\n",
              " 'protest kamaran chowrangi',\n",
              " 'protest numaish chowrangi',\n",
              " 'protest pawer house',\n",
              " 'water pipeline leakage',\n",
              " 'protest abul hassan',\n",
              " 'protest abul hassan',\n",
              " 'protest power house',\n",
              " 'protest pawer house',\n",
              " 'sawerage water shah',\n",
              " 'office timing traffic',\n",
              " 'protest started abbas',\n",
              " 'large number loaded',\n",
              " 'office closing time',\n",
              " 'sawerage water shah',\n",
              " 'development work bashir',\n",
              " 'water pipeline burst',\n",
              " 'road carpeting work',\n",
              " 'large number heavy',\n",
              " 'nala overflow haydari',\n",
              " 'sewerage water board',\n",
              " 'large number buyer',\n",
              " 'sewerage water board',\n",
              " 'road damage amp',\n",
              " 'water pipeline burst',\n",
              " 'mini bus broken',\n",
              " 'suzuki broken malir',\n",
              " 'suzuki broken malir',\n",
              " 'office closing time',\n",
              " 'large number heavy']"
            ]
          },
          "metadata": {
            "tags": []
          },
          "execution_count": 27
        }
      ]
    },
    {
      "cell_type": "code",
      "metadata": {
        "colab": {
          "base_uri": "https://localhost:8080/"
        },
        "id": "lTZm-5DFUcdt",
        "outputId": "9b9a66c8-8c31-4ca4-8f6b-63c6b5f39492"
      },
      "source": [
        "# stemming the reason list\r\n",
        "rs=list(hero.preprocessing.stem(pd.Series(reason)).values)\r\n",
        "rs"
      ],
      "execution_count": null,
      "outputs": [
        {
          "output_type": "execute_result",
          "data": {
            "text/plain": [
              "['protest transport link',\n",
              " 'protest transport link',\n",
              " 'sewerag water rashid',\n",
              " 'larg number peopl',\n",
              " 'offic close time',\n",
              " 'develop work teen',\n",
              " 'offic time traffic',\n",
              " 'accid three vehicl',\n",
              " 'offic close time',\n",
              " 'pit water near',\n",
              " 'develop work teen',\n",
              " 'offic time traffic',\n",
              " 'larg number heavi',\n",
              " 'offic close time',\n",
              " 'excav work sewerag',\n",
              " 'woman protest shortag',\n",
              " 'dumper broken hassan',\n",
              " 'oil tanker broken',\n",
              " 'develop work chamra',\n",
              " 'develop work teen',\n",
              " 'offic time traffic',\n",
              " 'larg number vehicl',\n",
              " 'traffic jam',\n",
              " 'end offic hour',\n",
              " 'polit parti start',\n",
              " 'develop work teen',\n",
              " 'offic time traffic',\n",
              " 'oil tanker broken',\n",
              " 'larg number buyer',\n",
              " 'excav work sewerag',\n",
              " 'excav work sewerag',\n",
              " 'trailer overturn anoth',\n",
              " 'trailer overturn anoth',\n",
              " 'protest landhi toward',\n",
              " 'sewerag water corridor',\n",
              " 'protest al habib',\n",
              " 'riligi parti protest',\n",
              " 'riligi parti protest',\n",
              " 'star gate toward',\n",
              " 'riligi parti protest',\n",
              " 'protest ziauddin chowrangi',\n",
              " 'protest peopl chowrangi',\n",
              " 'protest shah faisal',\n",
              " 'protest nagan chowrangi',\n",
              " 'protest main tower',\n",
              " 'offic close time',\n",
              " 'religi parti peopl',\n",
              " 'sewerag water board',\n",
              " 'protest gull baiy',\n",
              " 'trailer broken bashir',\n",
              " 'protest safoora chowrangi',\n",
              " 'protest nazimabad toward',\n",
              " 'protest ancholi sohrab',\n",
              " 'protest steel town',\n",
              " 'protest korangi',\n",
              " 'larg number vehicl',\n",
              " 'protest citi various',\n",
              " 'offic close time',\n",
              " 'protest nazimabad chowrangi',\n",
              " 'religi parti protest',\n",
              " 'vehicl broken express',\n",
              " 'develop work badar',\n",
              " 'religi parti protest',\n",
              " 'riligi parti protest',\n",
              " 'riligi parti protest',\n",
              " 'riligi parti protest',\n",
              " 'larg number vehicl',\n",
              " 'protest numaish chowrangi',\n",
              " 'truck fallen gulbai',\n",
              " 'protest kamaran chowrangi',\n",
              " 'protest numaish chowrangi',\n",
              " 'protest pawer hous',\n",
              " 'water pipelin leakag',\n",
              " 'protest abul hassan',\n",
              " 'protest abul hassan',\n",
              " 'protest power hous',\n",
              " 'protest pawer hous',\n",
              " 'sawerag water shah',\n",
              " 'offic time traffic',\n",
              " 'protest start abba',\n",
              " 'larg number load',\n",
              " 'offic close time',\n",
              " 'sawerag water shah',\n",
              " 'develop work bashir',\n",
              " 'water pipelin burst',\n",
              " 'road carpet work',\n",
              " 'larg number heavi',\n",
              " 'nala overflow haydari',\n",
              " 'sewerag water board',\n",
              " 'larg number buyer',\n",
              " 'sewerag water board',\n",
              " 'road damag amp',\n",
              " 'water pipelin burst',\n",
              " 'mini bus broken',\n",
              " 'suzuki broken malir',\n",
              " 'suzuki broken malir',\n",
              " 'offic close time',\n",
              " 'larg number heavi']"
            ]
          },
          "metadata": {
            "tags": []
          },
          "execution_count": 28
        }
      ]
    },
    {
      "cell_type": "code",
      "metadata": {
        "id": "khdr0BkA5sVS"
      },
      "source": [
        "'''for i in rs:\r\n",
        "  e=''\r\n",
        "  for j in i.split():\r\n",
        "    for k in rs:\r\n",
        "      if j in k:\r\n",
        "        e+=j\r\n",
        "  print(e)'''"
      ],
      "execution_count": null,
      "outputs": []
    },
    {
      "cell_type": "markdown",
      "metadata": {
        "id": "cLKn3pype-xy"
      },
      "source": [
        "***List of most used words in reasons list***"
      ]
    },
    {
      "cell_type": "code",
      "metadata": {
        "colab": {
          "base_uri": "https://localhost:8080/"
        },
        "id": "0rBCnQpVLRRi",
        "outputId": "22e660e3-8fc5-46d7-a6ba-8bcff6eb5312"
      },
      "source": [
        "from sklearn.feature_extraction.text import CountVectorizer \r\n",
        "cvbg = CountVectorizer(ngram_range=(1,3),max_features=300)\r\n",
        "x = cvbg.fit_transform(pd.Series(reason))\r\n",
        "DTM = pd.DataFrame(x.toarray(),columns=cvbg.get_feature_names())\r\n",
        "DTM.sum().sort_values(ascending=False)[:25]"
      ],
      "execution_count": null,
      "outputs": [
        {
          "output_type": "execute_result",
          "data": {
            "text/plain": [
              "protest                       26\n",
              "office                        13\n",
              "work                          11\n",
              "water                         11\n",
              "party                         10\n",
              "number                        10\n",
              "large number                  10\n",
              "large                         10\n",
              "protesting                     9\n",
              "party protesting               8\n",
              "sewerage                       8\n",
              "chowrangi                      8\n",
              "broken                         8\n",
              "development work               7\n",
              "development                    7\n",
              "closing                        7\n",
              "time                           7\n",
              "office closing time            7\n",
              "office closing                 7\n",
              "closing time                   7\n",
              "traffic                        6\n",
              "riligious party protesting     6\n",
              "riligious party                6\n",
              "riligious                      6\n",
              "sewerage water                 5\n",
              "dtype: int64"
            ]
          },
          "metadata": {
            "tags": []
          },
          "execution_count": 29
        }
      ]
    },
    {
      "cell_type": "code",
      "metadata": {
        "id": "dJgE1gks300T",
        "colab": {
          "base_uri": "https://localhost:8080/"
        },
        "outputId": "27f5aefe-0f1c-4d11-b244-73b6b68fa98a"
      },
      "source": [
        "hero.top_words(pd.Series(reason))[:10]"
      ],
      "execution_count": null,
      "outputs": [
        {
          "output_type": "execute_result",
          "data": {
            "text/plain": [
              "protest       26\n",
              "office        13\n",
              "work          11\n",
              "water         11\n",
              "number        10\n",
              "party         10\n",
              "large         10\n",
              "protesting     9\n",
              "broken         8\n",
              "sewerage       8\n",
              "dtype: int64"
            ]
          },
          "metadata": {
            "tags": []
          },
          "execution_count": 30
        }
      ]
    },
    {
      "cell_type": "markdown",
      "metadata": {
        "id": "3HvOvtnIfNn5"
      },
      "source": [
        "***Most used noun chunks in reason's list***"
      ]
    },
    {
      "cell_type": "code",
      "metadata": {
        "id": "wZtlxf4Q1Pfz"
      },
      "source": [
        "rc=[]\r\n",
        "for i in hero.noun_chunks(pd.Series(reason)):\r\n",
        "  try:\r\n",
        "    rc.append(i[0][0])\r\n",
        "  except:\r\n",
        "    pass"
      ],
      "execution_count": null,
      "outputs": []
    },
    {
      "cell_type": "code",
      "metadata": {
        "colab": {
          "base_uri": "https://localhost:8080/",
          "height": 1000
        },
        "id": "50FbRfUEFZx7",
        "outputId": "f0ad33a7-c31c-4d33-fe64-51e54844e8cc"
      },
      "source": [
        "rea_df=pd.DataFrame(pd.Series(rc).value_counts())\r\n",
        "rea_df"
      ],
      "execution_count": null,
      "outputs": [
        {
          "output_type": "execute_result",
          "data": {
            "text/html": [
              "<div>\n",
              "<style scoped>\n",
              "    .dataframe tbody tr th:only-of-type {\n",
              "        vertical-align: middle;\n",
              "    }\n",
              "\n",
              "    .dataframe tbody tr th {\n",
              "        vertical-align: top;\n",
              "    }\n",
              "\n",
              "    .dataframe thead th {\n",
              "        text-align: right;\n",
              "    }\n",
              "</style>\n",
              "<table border=\"1\" class=\"dataframe\">\n",
              "  <thead>\n",
              "    <tr style=\"text-align: right;\">\n",
              "      <th></th>\n",
              "      <th>0</th>\n",
              "    </tr>\n",
              "  </thead>\n",
              "  <tbody>\n",
              "    <tr>\n",
              "      <th>protest</th>\n",
              "      <td>7</td>\n",
              "    </tr>\n",
              "    <tr>\n",
              "      <th>office closing time</th>\n",
              "      <td>7</td>\n",
              "    </tr>\n",
              "    <tr>\n",
              "      <th>riligious party</th>\n",
              "      <td>6</td>\n",
              "    </tr>\n",
              "    <tr>\n",
              "      <th>office</th>\n",
              "      <td>5</td>\n",
              "    </tr>\n",
              "    <tr>\n",
              "      <th>development work teen</th>\n",
              "      <td>4</td>\n",
              "    </tr>\n",
              "    <tr>\n",
              "      <th>excavation work sewerage</th>\n",
              "      <td>3</td>\n",
              "    </tr>\n",
              "    <tr>\n",
              "      <th>trailer</th>\n",
              "      <td>3</td>\n",
              "    </tr>\n",
              "    <tr>\n",
              "      <th>sewerage water board</th>\n",
              "      <td>3</td>\n",
              "    </tr>\n",
              "    <tr>\n",
              "      <th>large number vehicle</th>\n",
              "      <td>3</td>\n",
              "    </tr>\n",
              "    <tr>\n",
              "      <th>religious party</th>\n",
              "      <td>2</td>\n",
              "    </tr>\n",
              "    <tr>\n",
              "      <th>water pipeline</th>\n",
              "      <td>2</td>\n",
              "    </tr>\n",
              "    <tr>\n",
              "      <th>protest pawer house</th>\n",
              "      <td>2</td>\n",
              "    </tr>\n",
              "    <tr>\n",
              "      <th>oil tanker</th>\n",
              "      <td>2</td>\n",
              "    </tr>\n",
              "    <tr>\n",
              "      <th>protest numaish chowrangi</th>\n",
              "      <td>2</td>\n",
              "    </tr>\n",
              "    <tr>\n",
              "      <th>suzuki broken malir</th>\n",
              "      <td>2</td>\n",
              "    </tr>\n",
              "    <tr>\n",
              "      <th>sawerage water shah</th>\n",
              "      <td>2</td>\n",
              "    </tr>\n",
              "    <tr>\n",
              "      <th>large number buyer</th>\n",
              "      <td>2</td>\n",
              "    </tr>\n",
              "    <tr>\n",
              "      <th>protest transporter link</th>\n",
              "      <td>2</td>\n",
              "    </tr>\n",
              "    <tr>\n",
              "      <th>protest abul hassan</th>\n",
              "      <td>2</td>\n",
              "    </tr>\n",
              "    <tr>\n",
              "      <th>protest ziauddin chowrangi</th>\n",
              "      <td>1</td>\n",
              "    </tr>\n",
              "    <tr>\n",
              "      <th>protest people chowrangi</th>\n",
              "      <td>1</td>\n",
              "    </tr>\n",
              "    <tr>\n",
              "      <th>protest korangi</th>\n",
              "      <td>1</td>\n",
              "    </tr>\n",
              "    <tr>\n",
              "      <th>development work badar</th>\n",
              "      <td>1</td>\n",
              "    </tr>\n",
              "    <tr>\n",
              "      <th>vehicle broken express</th>\n",
              "      <td>1</td>\n",
              "    </tr>\n",
              "    <tr>\n",
              "      <th>road carpeting work</th>\n",
              "      <td>1</td>\n",
              "    </tr>\n",
              "    <tr>\n",
              "      <th>dumper broken hassan</th>\n",
              "      <td>1</td>\n",
              "    </tr>\n",
              "    <tr>\n",
              "      <th>protest city</th>\n",
              "      <td>1</td>\n",
              "    </tr>\n",
              "    <tr>\n",
              "      <th>truck</th>\n",
              "      <td>1</td>\n",
              "    </tr>\n",
              "    <tr>\n",
              "      <th>political party</th>\n",
              "      <td>1</td>\n",
              "    </tr>\n",
              "    <tr>\n",
              "      <th>protest shah faisal</th>\n",
              "      <td>1</td>\n",
              "    </tr>\n",
              "    <tr>\n",
              "      <th>protest nagan chowrangi</th>\n",
              "      <td>1</td>\n",
              "    </tr>\n",
              "    <tr>\n",
              "      <th>protest steel town</th>\n",
              "      <td>1</td>\n",
              "    </tr>\n",
              "    <tr>\n",
              "      <th>large number people</th>\n",
              "      <td>1</td>\n",
              "    </tr>\n",
              "    <tr>\n",
              "      <th>religious party people</th>\n",
              "      <td>1</td>\n",
              "    </tr>\n",
              "    <tr>\n",
              "      <th>end</th>\n",
              "      <td>1</td>\n",
              "    </tr>\n",
              "    <tr>\n",
              "      <th>development</th>\n",
              "      <td>1</td>\n",
              "    </tr>\n",
              "    <tr>\n",
              "      <th>woman</th>\n",
              "      <td>1</td>\n",
              "    </tr>\n",
              "    <tr>\n",
              "      <th>protest power house</th>\n",
              "      <td>1</td>\n",
              "    </tr>\n",
              "    <tr>\n",
              "      <th>accident three vehicle</th>\n",
              "      <td>1</td>\n",
              "    </tr>\n",
              "    <tr>\n",
              "      <th>water pipeline leakage</th>\n",
              "      <td>1</td>\n",
              "    </tr>\n",
              "    <tr>\n",
              "      <th>nala overflow haydari</th>\n",
              "      <td>1</td>\n",
              "    </tr>\n",
              "    <tr>\n",
              "      <th>sewerage water corridor</th>\n",
              "      <td>1</td>\n",
              "    </tr>\n",
              "    <tr>\n",
              "      <th>protest safoora chowrangi</th>\n",
              "      <td>1</td>\n",
              "    </tr>\n",
              "    <tr>\n",
              "      <th>protest al habib</th>\n",
              "      <td>1</td>\n",
              "    </tr>\n",
              "    <tr>\n",
              "      <th>large number</th>\n",
              "      <td>1</td>\n",
              "    </tr>\n",
              "    <tr>\n",
              "      <th>development work bashir</th>\n",
              "      <td>1</td>\n",
              "    </tr>\n",
              "    <tr>\n",
              "      <th>road damage</th>\n",
              "      <td>1</td>\n",
              "    </tr>\n",
              "    <tr>\n",
              "      <th>mini bus</th>\n",
              "      <td>1</td>\n",
              "    </tr>\n",
              "    <tr>\n",
              "      <th>protest landhi</th>\n",
              "      <td>1</td>\n",
              "    </tr>\n",
              "    <tr>\n",
              "      <th>traffic jam</th>\n",
              "      <td>1</td>\n",
              "    </tr>\n",
              "    <tr>\n",
              "      <th>star gate</th>\n",
              "      <td>1</td>\n",
              "    </tr>\n",
              "    <tr>\n",
              "      <th>sewerage water rashid</th>\n",
              "      <td>1</td>\n",
              "    </tr>\n",
              "    <tr>\n",
              "      <th>pit water</th>\n",
              "      <td>1</td>\n",
              "    </tr>\n",
              "  </tbody>\n",
              "</table>\n",
              "</div>"
            ],
            "text/plain": [
              "                            0\n",
              "protest                     7\n",
              "office closing time         7\n",
              "riligious party             6\n",
              "office                      5\n",
              "development work teen       4\n",
              "excavation work sewerage    3\n",
              "trailer                     3\n",
              "sewerage water board        3\n",
              "large number vehicle        3\n",
              "religious party             2\n",
              "water pipeline              2\n",
              "protest pawer house         2\n",
              "oil tanker                  2\n",
              "protest numaish chowrangi   2\n",
              "suzuki broken malir         2\n",
              "sawerage water shah         2\n",
              "large number buyer          2\n",
              "protest transporter link    2\n",
              "protest abul hassan         2\n",
              "protest ziauddin chowrangi  1\n",
              "protest people chowrangi    1\n",
              "protest korangi             1\n",
              "development work badar      1\n",
              "vehicle broken express      1\n",
              "road carpeting work         1\n",
              "dumper broken hassan        1\n",
              "protest city                1\n",
              "truck                       1\n",
              "political party             1\n",
              "protest shah faisal         1\n",
              "protest nagan chowrangi     1\n",
              "protest steel town          1\n",
              "large number people         1\n",
              "religious party people      1\n",
              "end                         1\n",
              "development                 1\n",
              "woman                       1\n",
              "protest power house         1\n",
              "accident three vehicle      1\n",
              "water pipeline leakage      1\n",
              "nala overflow haydari       1\n",
              "sewerage water corridor     1\n",
              "protest safoora chowrangi   1\n",
              "protest al habib            1\n",
              "large number                1\n",
              "development work bashir     1\n",
              "road damage                 1\n",
              "mini bus                    1\n",
              "protest landhi              1\n",
              "traffic jam                 1\n",
              "star gate                   1\n",
              "sewerage water rashid       1\n",
              "pit water                   1"
            ]
          },
          "metadata": {
            "tags": []
          },
          "execution_count": 32
        }
      ]
    },
    {
      "cell_type": "markdown",
      "metadata": {
        "id": "FdIJaaoWfbgM"
      },
      "source": [
        "***cleaning the above ranked list to get appropriate results***"
      ]
    },
    {
      "cell_type": "code",
      "metadata": {
        "colab": {
          "base_uri": "https://localhost:8080/"
        },
        "id": "pMa318G190-X",
        "outputId": "1efefe4d-645b-4802-8645-e39349e788c0"
      },
      "source": [
        "ret=[]\r\n",
        "index=list(rea_df.index)\r\n",
        "for i in index:\r\n",
        "  for j in index:\r\n",
        "    if (i in j or j in i) and (i!=j):\r\n",
        "        print(i,j)\r\n",
        "        index.remove(j)\r\n",
        "        if i not in ret:\r\n",
        "          ret.append(i)\r\n",
        "ret"
      ],
      "execution_count": null,
      "outputs": [
        {
          "output_type": "stream",
          "text": [
            "protest protest pawer house\n",
            "protest protest transporter link\n",
            "protest protest numaish chowrangi\n",
            "protest protest power house\n",
            "protest protest ziauddin chowrangi\n",
            "protest protest city\n",
            "protest protest nagan chowrangi\n",
            "protest protest steel town\n",
            "protest protest korangi\n",
            "protest protest landhi\n",
            "office closing time office\n",
            "development work teen development\n",
            "large number vehicle large number\n",
            "religious party religious party people\n",
            "water pipeline water pipeline leakage\n",
            "protest abul hassan protest\n"
          ],
          "name": "stdout"
        },
        {
          "output_type": "execute_result",
          "data": {
            "text/plain": [
              "['protest',\n",
              " 'office closing time',\n",
              " 'development work teen',\n",
              " 'large number vehicle',\n",
              " 'religious party',\n",
              " 'water pipeline',\n",
              " 'protest abul hassan']"
            ]
          },
          "metadata": {
            "tags": []
          },
          "execution_count": 50
        }
      ]
    },
    {
      "cell_type": "markdown",
      "metadata": {
        "id": "SWboJCI1fo8X"
      },
      "source": [
        "***Repeating the procedure with stemmed list ***"
      ]
    },
    {
      "cell_type": "code",
      "metadata": {
        "colab": {
          "base_uri": "https://localhost:8080/",
          "height": 258
        },
        "id": "86M0bxJBZK0i",
        "outputId": "72e677fe-cf9d-47cc-cece-90dab07f39ce"
      },
      "source": [
        "rea_df[rea_df.index.isin(ret)]"
      ],
      "execution_count": null,
      "outputs": [
        {
          "output_type": "execute_result",
          "data": {
            "text/html": [
              "<div>\n",
              "<style scoped>\n",
              "    .dataframe tbody tr th:only-of-type {\n",
              "        vertical-align: middle;\n",
              "    }\n",
              "\n",
              "    .dataframe tbody tr th {\n",
              "        vertical-align: top;\n",
              "    }\n",
              "\n",
              "    .dataframe thead th {\n",
              "        text-align: right;\n",
              "    }\n",
              "</style>\n",
              "<table border=\"1\" class=\"dataframe\">\n",
              "  <thead>\n",
              "    <tr style=\"text-align: right;\">\n",
              "      <th></th>\n",
              "      <th>0</th>\n",
              "    </tr>\n",
              "  </thead>\n",
              "  <tbody>\n",
              "    <tr>\n",
              "      <th>protest</th>\n",
              "      <td>7</td>\n",
              "    </tr>\n",
              "    <tr>\n",
              "      <th>office closing time</th>\n",
              "      <td>7</td>\n",
              "    </tr>\n",
              "    <tr>\n",
              "      <th>development work teen</th>\n",
              "      <td>4</td>\n",
              "    </tr>\n",
              "    <tr>\n",
              "      <th>large number vehicle</th>\n",
              "      <td>3</td>\n",
              "    </tr>\n",
              "    <tr>\n",
              "      <th>religious party</th>\n",
              "      <td>2</td>\n",
              "    </tr>\n",
              "    <tr>\n",
              "      <th>water pipeline</th>\n",
              "      <td>2</td>\n",
              "    </tr>\n",
              "    <tr>\n",
              "      <th>protest abul hassan</th>\n",
              "      <td>2</td>\n",
              "    </tr>\n",
              "  </tbody>\n",
              "</table>\n",
              "</div>"
            ],
            "text/plain": [
              "                       0\n",
              "protest                7\n",
              "office closing time    7\n",
              "development work teen  4\n",
              "large number vehicle   3\n",
              "religious party        2\n",
              "water pipeline         2\n",
              "protest abul hassan    2"
            ]
          },
          "metadata": {
            "tags": []
          },
          "execution_count": 51
        }
      ]
    },
    {
      "cell_type": "code",
      "metadata": {
        "colab": {
          "base_uri": "https://localhost:8080/"
        },
        "id": "ztcAhvdPHQzx",
        "outputId": "57b70792-504a-4f7c-f298-19fbf2319203"
      },
      "source": [
        "rc=[]\r\n",
        "for i in hero.noun_chunks(pd.Series(rs)):\r\n",
        "  try:\r\n",
        "    rc.append(i[0][0])\r\n",
        "  except:\r\n",
        "    pass\r\n",
        "pd.Series(rc).value_counts()"
      ],
      "execution_count": null,
      "outputs": [
        {
          "output_type": "execute_result",
          "data": {
            "text/plain": [
              "protest                       8\n",
              "offic close time              7\n",
              "riligi parti protest          6\n",
              "offic time traffic            5\n",
              "work teen                     4\n",
              "sewerag water board           3\n",
              "number vehicl                 3\n",
              "number heavi                  3\n",
              "oil tanker                    2\n",
              "sawerag water shah            2\n",
              "protest abul hassan           2\n",
              "water pipelin burst           2\n",
              "protest pawer                 2\n",
              "religi parti protest          2\n",
              "protest transport link        2\n",
              "trailer overturn              2\n",
              "suzuki broken malir           2\n",
              "number buyer                  2\n",
              "protest numaish chowrangi     2\n",
              "protest peopl chowrangi       1\n",
              "star gate                     1\n",
              "protest korangi               1\n",
              "protest safoora chowrangi     1\n",
              "vehicl                        1\n",
              "work chamra                   1\n",
              "protest landhi                1\n",
              "protest nagan chowrangi       1\n",
              "sewerag water rashid          1\n",
              "mini bus                      1\n",
              "work bashir                   1\n",
              "road damag                    1\n",
              "road carpet work              1\n",
              "number peopl                  1\n",
              "nala overflow haydari         1\n",
              "water pipelin leakag          1\n",
              "protest ziauddin chowrangi    1\n",
              "protest al habib              1\n",
              "number load                   1\n",
              "work badar                    1\n",
              "religi parti peopl            1\n",
              "sewerag water corridor        1\n",
              "protest steel town            1\n",
              "traffic jam                   1\n",
              "trailer                       1\n",
              "pit water                     1\n",
              "polit parti                   1\n",
              "protest shah faisal           1\n",
              "dumper broken hassan          1\n",
              "truck                         1\n",
              "woman                         1\n",
              "dtype: int64"
            ]
          },
          "metadata": {
            "tags": []
          },
          "execution_count": 42
        }
      ]
    },
    {
      "cell_type": "code",
      "metadata": {
        "colab": {
          "base_uri": "https://localhost:8080/"
        },
        "id": "UYHuKE7z23Jx",
        "outputId": "1f66fade-1e8c-401d-9903-f7c8753b106a"
      },
      "source": [
        "e=''\r\n",
        "for i in hero.noun_chunks(pd.Series(reason)):\r\n",
        "    for j in i:\r\n",
        "        e+=' '+(j[0])\r\n",
        "s=pd.Series(e)\r\n",
        "((hero.top_words(s)[:11]))"
      ],
      "execution_count": null,
      "outputs": [
        {
          "output_type": "execute_result",
          "data": {
            "text/plain": [
              "protest        26\n",
              "office         12\n",
              "water          11\n",
              "work           10\n",
              "party          10\n",
              "chowrangi       8\n",
              "sewerage        8\n",
              "development     7\n",
              "closing         7\n",
              "large           7\n",
              "time            7\n",
              "dtype: int64"
            ]
          },
          "metadata": {
            "tags": []
          },
          "execution_count": 39
        }
      ]
    },
    {
      "cell_type": "code",
      "metadata": {
        "id": "C5I5JvC18Vj6"
      },
      "source": [
        "hero.top_words(s)"
      ],
      "execution_count": null,
      "outputs": []
    },
    {
      "cell_type": "markdown",
      "metadata": {
        "id": "CmaG0X6Vfxpw"
      },
      "source": [
        "***Using word and sentence embedding to get appropriate results from reason's list***"
      ]
    },
    {
      "cell_type": "code",
      "metadata": {
        "id": "qHdqAJ1c637l",
        "colab": {
          "base_uri": "https://localhost:8080/"
        },
        "outputId": "82365ebf-4039-46c9-8766-aeeaad0dd529"
      },
      "source": [
        "\r\n",
        "# init embedding\r\n",
        "embedding = SentenceTransformerDocumentEmbeddings('bert-base-nli-mean-tokens')\r\n",
        "\r\n"
      ],
      "execution_count": null,
      "outputs": [
        {
          "output_type": "stream",
          "text": [
            "100%|██████████| 405M/405M [00:47<00:00, 8.61MB/s]\n"
          ],
          "name": "stderr"
        }
      ]
    },
    {
      "cell_type": "code",
      "metadata": {
        "id": "1uiwRfPN_J6K",
        "colab": {
          "base_uri": "https://localhost:8080/"
        },
        "outputId": "007434c6-7f61-4335-9539-eabcdd9f0143"
      },
      "source": [
        "from flair.embeddings import WordEmbeddings, DocumentPoolEmbeddings\r\n",
        "\r\n",
        "glove_embedding = WordEmbeddings('glove')\r\n",
        "\r\n",
        "# initialize the document embeddings, mode = mean\r\n",
        "document_embeddings = DocumentPoolEmbeddings([glove_embedding])\r\n"
      ],
      "execution_count": null,
      "outputs": [
        {
          "output_type": "stream",
          "text": [
            "2021-01-20 14:00:08,451 https://flair.informatik.hu-berlin.de/resources/embeddings/token/glove.gensim.vectors.npy not found in cache, downloading to /tmp/tmp468ci787\n"
          ],
          "name": "stdout"
        },
        {
          "output_type": "stream",
          "text": [
            "100%|██████████| 160000128/160000128 [00:16<00:00, 9665317.91B/s]"
          ],
          "name": "stderr"
        },
        {
          "output_type": "stream",
          "text": [
            "2021-01-20 14:00:25,846 copying /tmp/tmp468ci787 to cache at /root/.flair/embeddings/glove.gensim.vectors.npy\n"
          ],
          "name": "stdout"
        },
        {
          "output_type": "stream",
          "text": [
            "\n"
          ],
          "name": "stderr"
        },
        {
          "output_type": "stream",
          "text": [
            "2021-01-20 14:00:26,159 removing temp file /tmp/tmp468ci787\n",
            "2021-01-20 14:00:28,268 https://flair.informatik.hu-berlin.de/resources/embeddings/token/glove.gensim not found in cache, downloading to /tmp/tmp07tgnohg\n"
          ],
          "name": "stdout"
        },
        {
          "output_type": "stream",
          "text": [
            "100%|██████████| 21494764/21494764 [00:03<00:00, 5561198.12B/s]"
          ],
          "name": "stderr"
        },
        {
          "output_type": "stream",
          "text": [
            "2021-01-20 14:00:32,970 copying /tmp/tmp07tgnohg to cache at /root/.flair/embeddings/glove.gensim\n",
            "2021-01-20 14:00:32,995 removing temp file /tmp/tmp07tgnohg\n"
          ],
          "name": "stdout"
        },
        {
          "output_type": "stream",
          "text": [
            "\n"
          ],
          "name": "stderr"
        }
      ]
    },
    {
      "cell_type": "code",
      "metadata": {
        "colab": {
          "base_uri": "https://localhost:8080/"
        },
        "id": "Hoj-HKqQ_jOO",
        "outputId": "b20dec37-a010-4a4a-9844-8482f7442766"
      },
      "source": [
        "sentence1 = Sentence(reason[0])\r\n",
        "for i in rs:\r\n",
        "  sentence2 = Sentence(i)\r\n",
        "  document_embeddings.embed(sentence1)\r\n",
        "  document_embeddings.embed(sentence2)\r\n",
        "  emb1=sentence1.embedding\r\n",
        "  emb2 = sentence2.embedding\r\n",
        "  from scipy.spatial import distance\r\n",
        "  dist=distance.cosine([emb1.detach().numpy()], [emb2.detach().numpy()])\r\n",
        "  if dist<0.20:\r\n",
        "    print(i)"
      ],
      "execution_count": null,
      "outputs": [
        {
          "output_type": "stream",
          "text": [
            "protest transport link\n",
            "protest transport link\n"
          ],
          "name": "stdout"
        }
      ]
    },
    {
      "cell_type": "code",
      "metadata": {
        "id": "GzvRrJXrJ8sD"
      },
      "source": [
        "def common(A, B): \r\n",
        "    comm = [i for i in \"\".join(B).split() if i in \"\".join(A).split()] \r\n",
        "    return ' '.join(comm)  "
      ],
      "execution_count": null,
      "outputs": []
    },
    {
      "cell_type": "code",
      "metadata": {
        "id": "gcduLWPNLE_1"
      },
      "source": [
        "reason_copy = rs.copy()"
      ],
      "execution_count": null,
      "outputs": []
    },
    {
      "cell_type": "code",
      "metadata": {
        "colab": {
          "base_uri": "https://localhost:8080/"
        },
        "id": "hIK1pmAGGvmS",
        "outputId": "f654fa34-634a-45b7-f1c1-9dac361f7166"
      },
      "source": [
        "from tqdm import tqdm\r\n",
        "to=[]\r\n",
        "for i in tqdm(reason_copy):\r\n",
        "  for k in reason_copy:\r\n",
        "    if i!=k and len(common(i,k))>0:\r\n",
        "      to.append(common(i,k))\r\n",
        "      reason_copy.remove(k)\r\n",
        "pd.Series(to).value_counts()"
      ],
      "execution_count": null,
      "outputs": [
        {
          "output_type": "stream",
          "text": [
            " 26%|██▌       | 25/98 [00:00<00:00, 2493.17it/s]\n"
          ],
          "name": "stderr"
        },
        {
          "output_type": "execute_result",
          "data": {
            "text/plain": [
              "protest          32\n",
              "larg number       9\n",
              "broken            6\n",
              "water             6\n",
              "offic time        5\n",
              "sewerag water     4\n",
              "develop work      3\n",
              "work              2\n",
              "sewerag           2\n",
              "vehicl            1\n",
              "peopl             1\n",
              "offic             1\n",
              "parti             1\n",
              "dtype: int64"
            ]
          },
          "metadata": {
            "tags": []
          },
          "execution_count": 62
        }
      ]
    },
    {
      "cell_type": "code",
      "metadata": {
        "id": "XCQDdyddGZ1n"
      },
      "source": [
        "sentence1 = Sentence(reason[4])\r\n",
        "for i in rs:\r\n",
        "  sentence2 = Sentence(i)\r\n",
        "  embedding.embed(sentence1)\r\n",
        "  embedding.embed(sentence2)\r\n",
        "  emb1=sentence1.get_embedding()\r\n",
        "  emb2 = sentence2.get_embedding()\r\n",
        "  from scipy.spatial import distance\r\n",
        "  dist=distance.cosine([emb1.detach().numpy()], [emb2.detach().numpy()])\r\n",
        "  if dist<0.20:\r\n",
        "    print(i)"
      ],
      "execution_count": null,
      "outputs": []
    },
    {
      "cell_type": "code",
      "metadata": {
        "id": "wTXJAaIm8GdQ"
      },
      "source": [
        "rea_c = rs.copy()"
      ],
      "execution_count": null,
      "outputs": []
    },
    {
      "cell_type": "code",
      "metadata": {
        "colab": {
          "base_uri": "https://localhost:8080/"
        },
        "id": "odfKny6e7P9w",
        "outputId": "649f91fd-2ac0-40e0-f8a2-0178ebcec411"
      },
      "source": [
        "from tqdm import tqdm\r\n",
        "rea_coll=[]\r\n",
        "for j in tqdm(rea_c):\r\n",
        "  sentence1 = Sentence(j)\r\n",
        "  col=[]\r\n",
        "  for i in rea_c:\r\n",
        "    sentence2 = Sentence(i)\r\n",
        "    embedding.embed(sentence1)\r\n",
        "    embedding.embed(sentence2)\r\n",
        "    emb1=sentence1.get_embedding()\r\n",
        "    emb2 = sentence2.get_embedding()\r\n",
        "    from scipy.spatial import distance\r\n",
        "    dist=distance.cosine([emb1.detach().numpy()], [emb2.detach().numpy()])\r\n",
        "    if dist<0.30:\r\n",
        "      col.append(i)\r\n",
        "      rea_c.remove(i)\r\n",
        "  rea_coll.append(col)"
      ],
      "execution_count": null,
      "outputs": [
        {
          "output_type": "stream",
          "text": [
            " 17%|█▋        | 17/98 [00:52<04:08,  3.07s/it]\n"
          ],
          "name": "stderr"
        }
      ]
    },
    {
      "cell_type": "code",
      "metadata": {
        "colab": {
          "base_uri": "https://localhost:8080/"
        },
        "id": "ZnnC05B47u9P",
        "outputId": "45990ea0-6cc4-4c7e-bc58-54703e035983"
      },
      "source": [
        "for i in rea_coll:\r\n",
        "  print(i[:2],len(i))"
      ],
      "execution_count": null,
      "outputs": [
        {
          "output_type": "stream",
          "text": [
            "['protest transport link', 'protest landhi toward'] 21\n",
            "['sewerag water rashid', 'excav work sewerag'] 10\n",
            "['larg number peopl', 'offic time traffic'] 14\n",
            "['pit water near'] 1\n",
            "['woman protest shortag'] 1\n",
            "['dumper broken hassan', 'oil tanker broken'] 3\n",
            "['larg number vehicl', 'larg number buyer'] 8\n",
            "['develop work chamra', 'polit parti start'] 3\n",
            "['excav work sewerag'] 1\n",
            "['trailer overturn anoth', 'trailer broken bashir'] 2\n",
            "['protest transport link', 'protest ziauddin chowrangi'] 7\n",
            "['protest steel town'] 1\n",
            "['develop work teen', 'develop work teen'] 5\n",
            "['road carpet work'] 1\n",
            "['road damag amp'] 1\n",
            "['vehicl broken express', 'mini bus broken'] 2\n",
            "['offic close time'] 1\n"
          ],
          "name": "stdout"
        }
      ]
    },
    {
      "cell_type": "code",
      "metadata": {
        "id": "qHP0wf5G-Ac0"
      },
      "source": [
        "reason[2]"
      ],
      "execution_count": null,
      "outputs": []
    },
    {
      "cell_type": "code",
      "metadata": {
        "id": "I7wN_ynNQc7z"
      },
      "source": [
        "pd.DataFrame(reason)"
      ],
      "execution_count": null,
      "outputs": []
    },
    {
      "cell_type": "markdown",
      "metadata": {
        "id": "zP_WJyrPgADV"
      },
      "source": [
        "***From all above analysis it is evident that the protest is most common reason of traffic congestion followed by office time traffic, congestion due to development work .***"
      ]
    }
  ]
}