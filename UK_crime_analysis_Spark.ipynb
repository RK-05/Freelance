{
  "nbformat": 4,
  "nbformat_minor": 0,
  "metadata": {
    "colab": {
      "name": "Big Data.ipynb",
      "provenance": [],
      "collapsed_sections": []
    },
    "kernelspec": {
      "name": "python3",
      "display_name": "Python 3"
    }
  },
  "cells": [
    {
      "cell_type": "code",
      "metadata": {
        "id": "Lq9vuT2nYqRY"
      },
      "source": [
        "!apt-get install openjdk-8-jdk-headless -qq > /dev/null\r\n",
        "!wget -q https://downloads.apache.org/spark/spark-3.0.1/spark-3.0.1-bin-hadoop2.7.tgz"
      ],
      "execution_count": 1,
      "outputs": []
    },
    {
      "cell_type": "code",
      "metadata": {
        "id": "kaiwOmxmyZ7i"
      },
      "source": [
        "!tar xf spark-3.0.1-bin-hadoop2.7.tgz\r\n",
        "!pip install -q findspark"
      ],
      "execution_count": 2,
      "outputs": []
    },
    {
      "cell_type": "code",
      "metadata": {
        "id": "RA2LmbLt62Ve",
        "colab": {
          "base_uri": "https://localhost:8080/"
        },
        "outputId": "078b2ae1-5928-4f3d-af9a-911ae7b3078c"
      },
      "source": [
        "!wget https://s3.amazonaws.com/kf7032-20.northumbria.ac.uk/crimes.gz"
      ],
      "execution_count": 3,
      "outputs": [
        {
          "output_type": "stream",
          "text": [
            "--2021-01-21 05:56:24--  https://s3.amazonaws.com/kf7032-20.northumbria.ac.uk/crimes.gz\n",
            "Resolving s3.amazonaws.com (s3.amazonaws.com)... 52.217.106.102\n",
            "Connecting to s3.amazonaws.com (s3.amazonaws.com)|52.217.106.102|:443... connected.\n",
            "HTTP request sent, awaiting response... 200 OK\n",
            "Length: 487342828 (465M) [binary/octet-stream]\n",
            "Saving to: ‘crimes.gz’\n",
            "\n",
            "crimes.gz           100%[===================>] 464.77M  41.8MB/s    in 11s     \n",
            "\n",
            "2021-01-21 05:56:35 (42.2 MB/s) - ‘crimes.gz’ saved [487342828/487342828]\n",
            "\n"
          ],
          "name": "stdout"
        }
      ]
    },
    {
      "cell_type": "code",
      "metadata": {
        "id": "LRmrPkrayiSU"
      },
      "source": [
        "import os\r\n",
        "os.environ[\"JAVA_HOME\"] = \"/usr/lib/jvm/java-8-openjdk-amd64\"\r\n",
        "os.environ[\"SPARK_HOME\"] = \"/content/spark-3.0.1-bin-hadoop2.7\""
      ],
      "execution_count": 4,
      "outputs": []
    },
    {
      "cell_type": "code",
      "metadata": {
        "id": "WcdLdz44yv1c"
      },
      "source": [
        "import findspark\r\n",
        "findspark.init()\r\n",
        "from pyspark.sql import SparkSession\r\n",
        "spark = SparkSession.builder.master(\"local[*]\").getOrCreate()"
      ],
      "execution_count": 5,
      "outputs": []
    },
    {
      "cell_type": "code",
      "metadata": {
        "id": "ZjFR82Gtyzh-"
      },
      "source": [
        "dataset = spark.read.csv('crimes.gz',inferSchema=True, header =False)"
      ],
      "execution_count": 6,
      "outputs": []
    },
    {
      "cell_type": "code",
      "metadata": {
        "colab": {
          "base_uri": "https://localhost:8080/"
        },
        "id": "6Xc1RLjnn2py",
        "outputId": "ba6ec5c3-900e-4df1-b6d9-03910b18aed3"
      },
      "source": [
        "dataset.show()"
      ],
      "execution_count": 7,
      "outputs": [
        {
          "output_type": "stream",
          "text": [
            "+--------------------+-------+--------------------+--------------------+---------+---------+--------------------+---------+--------------------+--------------------+--------------------+----+\n",
            "|                 _c0|    _c1|                 _c2|                 _c3|      _c4|      _c5|                 _c6|      _c7|                 _c8|                 _c9|                _c10|_c11|\n",
            "+--------------------+-------+--------------------+--------------------+---------+---------+--------------------+---------+--------------------+--------------------+--------------------+----+\n",
            "|40fc4a22e7380425d...|2014-06|Avon and Somerset...|Avon and Somerset...|-2.511761|51.409966|On or near Caerna...|E01014399|Bath and North Ea...|Criminal damage a...|Investigation com...|null|\n",
            "|c70c58a712c27d96f...|2014-06|Avon and Somerset...|Avon and Somerset...|-2.515816|51.408717|On or near Caroli...|E01014399|Bath and North Ea...|       Vehicle crime|Investigation com...|null|\n",
            "|042553d9545f4f15c...|2014-06|Avon and Somerset...|Avon and Somerset...|-2.515816|51.408717|On or near Caroli...|E01014399|Bath and North Ea...|       Vehicle crime|Investigation com...|null|\n",
            "|751b8fb098629781a...|2014-06|Avon and Somerset...|Avon and Somerset...|-2.512773|51.411751|On or near Westfi...|E01014399|Bath and North Ea...|Violence and sexu...|Unable to prosecu...|null|\n",
            "|81e1cf35259deb6cb...|2014-06|Avon and Somerset...|Avon and Somerset...|-2.515816|51.408717|On or near Caroli...|E01014399|Bath and North Ea...|Violence and sexu...|Unable to prosecu...|null|\n",
            "|                null|2014-06|Avon and Somerset...|Avon and Somerset...|-2.498613|51.416002|On or near High S...|E01014400|Bath and North Ea...|Anti-social behav...|                null|null|\n",
            "|                null|2014-06|Avon and Somerset...|Avon and Somerset...|-2.510427|51.423181|On or near Durley...|E01014400|Bath and North Ea...|Anti-social behav...|                null|null|\n",
            "|                null|2014-06|Avon and Somerset...|Avon and Somerset...|-2.498613|51.416002|On or near High S...|E01014400|Bath and North Ea...|Anti-social behav...|                null|null|\n",
            "|                null|2014-06|Avon and Somerset...|Avon and Somerset...| -2.49793|51.417966|On or near Statio...|E01014400|Bath and North Ea...|Anti-social behav...|                null|null|\n",
            "|                null|2014-06|Avon and Somerset...|Avon and Somerset...|-2.498613|51.416002|On or near High S...|E01014400|Bath and North Ea...|Anti-social behav...|                null|null|\n",
            "|                null|2014-06|Avon and Somerset...|Avon and Somerset...|-2.497799|51.415233|On or near Back Lane|E01014400|Bath and North Ea...|Anti-social behav...|                null|null|\n",
            "|                null|2014-06|Avon and Somerset...|Avon and Somerset...| -2.49793|51.417966|On or near Statio...|E01014400|Bath and North Ea...|Anti-social behav...|                null|null|\n",
            "|                null|2014-06|Avon and Somerset...|Avon and Somerset...|-2.498613|51.416002|On or near High S...|E01014400|Bath and North Ea...|Anti-social behav...|                null|null|\n",
            "|                null|2014-06|Avon and Somerset...|Avon and Somerset...|-2.494715|51.419948|On or near Somerd...|E01014400|Bath and North Ea...|Anti-social behav...|                null|null|\n",
            "|                null|2014-06|Avon and Somerset...|Avon and Somerset...|-2.494715|51.419948|On or near Somerd...|E01014400|Bath and North Ea...|Anti-social behav...|                null|null|\n",
            "|                null|2014-06|Avon and Somerset...|Avon and Somerset...|-2.498613|51.416002|On or near High S...|E01014400|Bath and North Ea...|Anti-social behav...|                null|null|\n",
            "|                null|2014-06|Avon and Somerset...|Avon and Somerset...|-2.498613|51.416002|On or near High S...|E01014400|Bath and North Ea...|Anti-social behav...|                null|null|\n",
            "|39d6e48448a13146c...|2014-06|Avon and Somerset...|Avon and Somerset...|-2.506385|51.416598|On or near Broadl...|E01014400|Bath and North Ea...|            Burglary|Investigation com...|null|\n",
            "|feeec3afaed057174...|2014-06|Avon and Somerset...|Avon and Somerset...|-2.497437|51.418912|On or near Priory...|E01014400|Bath and North Ea...|            Burglary|Investigation com...|null|\n",
            "|466fbbc7cb2a4008f...|2014-06|Avon and Somerset...|Avon and Somerset...|-2.501713|51.414155|On or near West V...|E01014400|Bath and North Ea...|Criminal damage a...|Investigation com...|null|\n",
            "+--------------------+-------+--------------------+--------------------+---------+---------+--------------------+---------+--------------------+--------------------+--------------------+----+\n",
            "only showing top 20 rows\n",
            "\n"
          ],
          "name": "stdout"
        }
      ]
    },
    {
      "cell_type": "code",
      "metadata": {
        "colab": {
          "base_uri": "https://localhost:8080/"
        },
        "id": "hS8anHT_wP06",
        "outputId": "d305e951-b418-4812-eb8b-aac83904dc49"
      },
      "source": [
        "#count of nulls in data\r\n",
        "dataset.na.df.count()"
      ],
      "execution_count": 8,
      "outputs": [
        {
          "output_type": "execute_result",
          "data": {
            "text/plain": [
              "12044588"
            ]
          },
          "metadata": {
            "tags": []
          },
          "execution_count": 8
        }
      ]
    },
    {
      "cell_type": "markdown",
      "metadata": {
        "id": "GWfMiZOcnREK"
      },
      "source": [
        "There are more firearms incidents per head in Birmingham than anywhere else in the UK"
      ]
    },
    {
      "cell_type": "code",
      "metadata": {
        "id": "U3MPo47FzrHw"
      },
      "source": [
        "#filtering of the data by considering crime type as only weapon possesion\r\n",
        "list_pw=dataset.filter(dataset._c9=='Possession of weapons').collect()"
      ],
      "execution_count": 9,
      "outputs": []
    },
    {
      "cell_type": "code",
      "metadata": {
        "id": "_ER9pApF1V8N"
      },
      "source": [
        "#using spark's topandas function to convert the sparkdf into pandasdf\r\n",
        "df=dataset.filter(dataset._c9=='Possession of weapons').toPandas()"
      ],
      "execution_count": 10,
      "outputs": []
    },
    {
      "cell_type": "code",
      "metadata": {
        "id": "5HRkpNmK4f3U"
      },
      "source": [
        "#As mentioned gun possesion crime is only considered is the offender has been sent to prison as the possesion is considered illegal\r\n",
        "df_gun=df[df['_c10']=='Offender sent to prison']"
      ],
      "execution_count": 11,
      "outputs": []
    },
    {
      "cell_type": "code",
      "metadata": {
        "id": "8EcN5yWo5D1I"
      },
      "source": [
        "#location dataframe\r\n",
        "df_pop = spark.read.csv('/content/LSOA_pop_v2.csv',inferSchema=True, header =True)"
      ],
      "execution_count": 14,
      "outputs": []
    },
    {
      "cell_type": "code",
      "metadata": {
        "id": "t1JwtSko57Y-"
      },
      "source": [
        "#using spark's topandas function to convert the sparkdf into pandasdf\r\n",
        "df_pop=df_pop.toPandas()"
      ],
      "execution_count": 15,
      "outputs": []
    },
    {
      "cell_type": "code",
      "metadata": {
        "colab": {
          "base_uri": "https://localhost:8080/",
          "height": 735
        },
        "id": "dDr0grFt68Vg",
        "outputId": "cd18b510-1e6c-42f5-acb4-1e9a87d6d91a"
      },
      "source": [
        "df_pop"
      ],
      "execution_count": 16,
      "outputs": [
        {
          "output_type": "execute_result",
          "data": {
            "text/html": [
              "<div>\n",
              "<style scoped>\n",
              "    .dataframe tbody tr th:only-of-type {\n",
              "        vertical-align: middle;\n",
              "    }\n",
              "\n",
              "    .dataframe tbody tr th {\n",
              "        vertical-align: top;\n",
              "    }\n",
              "\n",
              "    .dataframe thead th {\n",
              "        text-align: right;\n",
              "    }\n",
              "</style>\n",
              "<table border=\"1\" class=\"dataframe\">\n",
              "  <thead>\n",
              "    <tr style=\"text-align: right;\">\n",
              "      <th></th>\n",
              "      <th>date</th>\n",
              "      <th>geography</th>\n",
              "      <th>geography code</th>\n",
              "      <th>Rural Urban</th>\n",
              "      <th>Variable: All usual residents; measures: Value</th>\n",
              "      <th>Variable: Males; measures: Value</th>\n",
              "      <th>Variable: Females; measures: Value</th>\n",
              "      <th>Variable: Lives in a household; measures: Value</th>\n",
              "      <th>Variable: Lives in a communal establishment; measures: Value</th>\n",
              "      <th>Variable: Schoolchild or full-time student aged 4 and over at their non term-time address; measures: Value</th>\n",
              "      <th>Variable: Area (Hectares); measures: Value</th>\n",
              "      <th>Variable: Density (number of persons per hectare); measures: Value</th>\n",
              "    </tr>\n",
              "  </thead>\n",
              "  <tbody>\n",
              "    <tr>\n",
              "      <th>0</th>\n",
              "      <td>2011</td>\n",
              "      <td>Darlington 001B</td>\n",
              "      <td>E01012334</td>\n",
              "      <td>Total</td>\n",
              "      <td>2466</td>\n",
              "      <td>1220</td>\n",
              "      <td>1246</td>\n",
              "      <td>2466</td>\n",
              "      <td>0</td>\n",
              "      <td>42</td>\n",
              "      <td>6033.58</td>\n",
              "      <td>0.4</td>\n",
              "    </tr>\n",
              "    <tr>\n",
              "      <th>1</th>\n",
              "      <td>2011</td>\n",
              "      <td>Darlington 001C</td>\n",
              "      <td>E01012335</td>\n",
              "      <td>Total</td>\n",
              "      <td>1383</td>\n",
              "      <td>682</td>\n",
              "      <td>701</td>\n",
              "      <td>1383</td>\n",
              "      <td>0</td>\n",
              "      <td>21</td>\n",
              "      <td>114.01</td>\n",
              "      <td>12.1</td>\n",
              "    </tr>\n",
              "    <tr>\n",
              "      <th>2</th>\n",
              "      <td>2011</td>\n",
              "      <td>Darlington 001D</td>\n",
              "      <td>E01012366</td>\n",
              "      <td>Total</td>\n",
              "      <td>2008</td>\n",
              "      <td>972</td>\n",
              "      <td>1036</td>\n",
              "      <td>2008</td>\n",
              "      <td>0</td>\n",
              "      <td>30</td>\n",
              "      <td>6718.16</td>\n",
              "      <td>0.3</td>\n",
              "    </tr>\n",
              "    <tr>\n",
              "      <th>3</th>\n",
              "      <td>2011</td>\n",
              "      <td>Darlington 001E</td>\n",
              "      <td>E01033481</td>\n",
              "      <td>Total</td>\n",
              "      <td>1364</td>\n",
              "      <td>680</td>\n",
              "      <td>684</td>\n",
              "      <td>1350</td>\n",
              "      <td>14</td>\n",
              "      <td>21</td>\n",
              "      <td>146.95</td>\n",
              "      <td>9.3</td>\n",
              "    </tr>\n",
              "    <tr>\n",
              "      <th>4</th>\n",
              "      <td>2011</td>\n",
              "      <td>Darlington 001F</td>\n",
              "      <td>E01033482</td>\n",
              "      <td>Total</td>\n",
              "      <td>1621</td>\n",
              "      <td>810</td>\n",
              "      <td>811</td>\n",
              "      <td>1621</td>\n",
              "      <td>0</td>\n",
              "      <td>16</td>\n",
              "      <td>234.31</td>\n",
              "      <td>6.9</td>\n",
              "    </tr>\n",
              "    <tr>\n",
              "      <th>...</th>\n",
              "      <td>...</td>\n",
              "      <td>...</td>\n",
              "      <td>...</td>\n",
              "      <td>...</td>\n",
              "      <td>...</td>\n",
              "      <td>...</td>\n",
              "      <td>...</td>\n",
              "      <td>...</td>\n",
              "      <td>...</td>\n",
              "      <td>...</td>\n",
              "      <td>...</td>\n",
              "      <td>...</td>\n",
              "    </tr>\n",
              "    <tr>\n",
              "      <th>34748</th>\n",
              "      <td>2011</td>\n",
              "      <td>Newport 020A</td>\n",
              "      <td>W01001636</td>\n",
              "      <td>Total</td>\n",
              "      <td>1897</td>\n",
              "      <td>944</td>\n",
              "      <td>953</td>\n",
              "      <td>1897</td>\n",
              "      <td>0</td>\n",
              "      <td>25</td>\n",
              "      <td>1151.60</td>\n",
              "      <td>1.6</td>\n",
              "    </tr>\n",
              "    <tr>\n",
              "      <th>34749</th>\n",
              "      <td>2011</td>\n",
              "      <td>Newport 020C</td>\n",
              "      <td>W01001657</td>\n",
              "      <td>Total</td>\n",
              "      <td>1465</td>\n",
              "      <td>721</td>\n",
              "      <td>744</td>\n",
              "      <td>1463</td>\n",
              "      <td>2</td>\n",
              "      <td>38</td>\n",
              "      <td>881.84</td>\n",
              "      <td>1.7</td>\n",
              "    </tr>\n",
              "    <tr>\n",
              "      <th>34750</th>\n",
              "      <td>2011</td>\n",
              "      <td>Newport 020D</td>\n",
              "      <td>W01001658</td>\n",
              "      <td>Total</td>\n",
              "      <td>1885</td>\n",
              "      <td>891</td>\n",
              "      <td>994</td>\n",
              "      <td>1848</td>\n",
              "      <td>37</td>\n",
              "      <td>23</td>\n",
              "      <td>365.14</td>\n",
              "      <td>5.2</td>\n",
              "    </tr>\n",
              "    <tr>\n",
              "      <th>34751</th>\n",
              "      <td>2011</td>\n",
              "      <td>Newport 020E</td>\n",
              "      <td>W01001912</td>\n",
              "      <td>Total</td>\n",
              "      <td>1480</td>\n",
              "      <td>739</td>\n",
              "      <td>741</td>\n",
              "      <td>1476</td>\n",
              "      <td>4</td>\n",
              "      <td>22</td>\n",
              "      <td>1607.09</td>\n",
              "      <td>0.9</td>\n",
              "    </tr>\n",
              "    <tr>\n",
              "      <th>34752</th>\n",
              "      <td>2011</td>\n",
              "      <td>Newport 020F</td>\n",
              "      <td>W01001913</td>\n",
              "      <td>Total</td>\n",
              "      <td>1440</td>\n",
              "      <td>753</td>\n",
              "      <td>687</td>\n",
              "      <td>1440</td>\n",
              "      <td>0</td>\n",
              "      <td>8</td>\n",
              "      <td>695.33</td>\n",
              "      <td>2.1</td>\n",
              "    </tr>\n",
              "  </tbody>\n",
              "</table>\n",
              "<p>34753 rows × 12 columns</p>\n",
              "</div>"
            ],
            "text/plain": [
              "       date  ... Variable: Density (number of persons per hectare); measures: Value\n",
              "0      2011  ...                                                0.4                \n",
              "1      2011  ...                                               12.1                \n",
              "2      2011  ...                                                0.3                \n",
              "3      2011  ...                                                9.3                \n",
              "4      2011  ...                                                6.9                \n",
              "...     ...  ...                                                ...                \n",
              "34748  2011  ...                                                1.6                \n",
              "34749  2011  ...                                                1.7                \n",
              "34750  2011  ...                                                5.2                \n",
              "34751  2011  ...                                                0.9                \n",
              "34752  2011  ...                                                2.1                \n",
              "\n",
              "[34753 rows x 12 columns]"
            ]
          },
          "metadata": {
            "tags": []
          },
          "execution_count": 16
        }
      ]
    },
    {
      "cell_type": "code",
      "metadata": {
        "colab": {
          "base_uri": "https://localhost:8080/",
          "height": 1000
        },
        "id": "eczGU8ia58hM",
        "outputId": "ffad7418-6a97-4e5a-8be9-c1e0cbfe7ed2"
      },
      "source": [
        "#merging the the loaction df with gun possesion filtered df to associate the location with the crime\r\n",
        "df_mer = df_gun.merge(df_pop,how='inner',left_on='_c7',right_on='geography code')\r\n",
        "df_mer"
      ],
      "execution_count": 17,
      "outputs": [
        {
          "output_type": "execute_result",
          "data": {
            "text/html": [
              "<div>\n",
              "<style scoped>\n",
              "    .dataframe tbody tr th:only-of-type {\n",
              "        vertical-align: middle;\n",
              "    }\n",
              "\n",
              "    .dataframe tbody tr th {\n",
              "        vertical-align: top;\n",
              "    }\n",
              "\n",
              "    .dataframe thead th {\n",
              "        text-align: right;\n",
              "    }\n",
              "</style>\n",
              "<table border=\"1\" class=\"dataframe\">\n",
              "  <thead>\n",
              "    <tr style=\"text-align: right;\">\n",
              "      <th></th>\n",
              "      <th>_c0</th>\n",
              "      <th>_c1</th>\n",
              "      <th>_c2</th>\n",
              "      <th>_c3</th>\n",
              "      <th>_c4</th>\n",
              "      <th>_c5</th>\n",
              "      <th>_c6</th>\n",
              "      <th>_c7</th>\n",
              "      <th>_c8</th>\n",
              "      <th>_c9</th>\n",
              "      <th>_c10</th>\n",
              "      <th>_c11</th>\n",
              "      <th>date</th>\n",
              "      <th>geography</th>\n",
              "      <th>geography code</th>\n",
              "      <th>Rural Urban</th>\n",
              "      <th>Variable: All usual residents; measures: Value</th>\n",
              "      <th>Variable: Males; measures: Value</th>\n",
              "      <th>Variable: Females; measures: Value</th>\n",
              "      <th>Variable: Lives in a household; measures: Value</th>\n",
              "      <th>Variable: Lives in a communal establishment; measures: Value</th>\n",
              "      <th>Variable: Schoolchild or full-time student aged 4 and over at their non term-time address; measures: Value</th>\n",
              "      <th>Variable: Area (Hectares); measures: Value</th>\n",
              "      <th>Variable: Density (number of persons per hectare); measures: Value</th>\n",
              "    </tr>\n",
              "  </thead>\n",
              "  <tbody>\n",
              "    <tr>\n",
              "      <th>0</th>\n",
              "      <td>7f0e77c4fd58992c53fc335aff1725c421aaa9e898b5ff...</td>\n",
              "      <td>2014-06</td>\n",
              "      <td>Bedfordshire Police</td>\n",
              "      <td>Bedfordshire Police</td>\n",
              "      <td>-0.454711</td>\n",
              "      <td>52.144882</td>\n",
              "      <td>On or near Amberley Gardens</td>\n",
              "      <td>E01017482</td>\n",
              "      <td>Bedford 009A</td>\n",
              "      <td>Possession of weapons</td>\n",
              "      <td>Offender sent to prison</td>\n",
              "      <td>None</td>\n",
              "      <td>2011</td>\n",
              "      <td>Bedford 009A</td>\n",
              "      <td>E01017482</td>\n",
              "      <td>Total</td>\n",
              "      <td>1344</td>\n",
              "      <td>682</td>\n",
              "      <td>662</td>\n",
              "      <td>1245</td>\n",
              "      <td>99</td>\n",
              "      <td>25</td>\n",
              "      <td>73.44</td>\n",
              "      <td>18.3</td>\n",
              "    </tr>\n",
              "    <tr>\n",
              "      <th>1</th>\n",
              "      <td>56c719fdbd4a5071e6f5646bc52b739d5b9b0cad387797...</td>\n",
              "      <td>2015-07</td>\n",
              "      <td>Bedfordshire Police</td>\n",
              "      <td>Bedfordshire Police</td>\n",
              "      <td>-0.457335</td>\n",
              "      <td>52.146742</td>\n",
              "      <td>On or near St Alban Road</td>\n",
              "      <td>E01017482</td>\n",
              "      <td>Bedford 009A</td>\n",
              "      <td>Possession of weapons</td>\n",
              "      <td>Offender sent to prison</td>\n",
              "      <td>None</td>\n",
              "      <td>2011</td>\n",
              "      <td>Bedford 009A</td>\n",
              "      <td>E01017482</td>\n",
              "      <td>Total</td>\n",
              "      <td>1344</td>\n",
              "      <td>682</td>\n",
              "      <td>662</td>\n",
              "      <td>1245</td>\n",
              "      <td>99</td>\n",
              "      <td>25</td>\n",
              "      <td>73.44</td>\n",
              "      <td>18.3</td>\n",
              "    </tr>\n",
              "    <tr>\n",
              "      <th>2</th>\n",
              "      <td>95e36cb48e7ab379257dcce4be68a5a262a78502656bf5...</td>\n",
              "      <td>2014-06</td>\n",
              "      <td>Bedfordshire Police</td>\n",
              "      <td>Bedfordshire Police</td>\n",
              "      <td>-0.453259</td>\n",
              "      <td>51.902931</td>\n",
              "      <td>On or near Sarum Road</td>\n",
              "      <td>E01015785</td>\n",
              "      <td>Luton 006G</td>\n",
              "      <td>Possession of weapons</td>\n",
              "      <td>Offender sent to prison</td>\n",
              "      <td>None</td>\n",
              "      <td>2011</td>\n",
              "      <td>Luton 006G</td>\n",
              "      <td>E01015785</td>\n",
              "      <td>Total</td>\n",
              "      <td>2134</td>\n",
              "      <td>1061</td>\n",
              "      <td>1073</td>\n",
              "      <td>2041</td>\n",
              "      <td>93</td>\n",
              "      <td>27</td>\n",
              "      <td>31.03</td>\n",
              "      <td>68.8</td>\n",
              "    </tr>\n",
              "    <tr>\n",
              "      <th>3</th>\n",
              "      <td>6877bc0fce36b40bdda3e86aaf424df2a88981a514e833...</td>\n",
              "      <td>2014-06</td>\n",
              "      <td>Bedfordshire Police</td>\n",
              "      <td>Bedfordshire Police</td>\n",
              "      <td>-0.419390</td>\n",
              "      <td>51.880559</td>\n",
              "      <td>On or near Alma Street</td>\n",
              "      <td>E01015794</td>\n",
              "      <td>Luton 018F</td>\n",
              "      <td>Possession of weapons</td>\n",
              "      <td>Offender sent to prison</td>\n",
              "      <td>None</td>\n",
              "      <td>2011</td>\n",
              "      <td>Luton 018F</td>\n",
              "      <td>E01015794</td>\n",
              "      <td>Total</td>\n",
              "      <td>2505</td>\n",
              "      <td>1366</td>\n",
              "      <td>1139</td>\n",
              "      <td>2060</td>\n",
              "      <td>445</td>\n",
              "      <td>48</td>\n",
              "      <td>50.51</td>\n",
              "      <td>49.6</td>\n",
              "    </tr>\n",
              "    <tr>\n",
              "      <th>4</th>\n",
              "      <td>9d3938e6d2b1ca53eaf023f9c6d1dc692ebd734791a05e...</td>\n",
              "      <td>2014-07</td>\n",
              "      <td>Bedfordshire Police</td>\n",
              "      <td>Bedfordshire Police</td>\n",
              "      <td>-0.418426</td>\n",
              "      <td>51.879044</td>\n",
              "      <td>On or near Peel Street</td>\n",
              "      <td>E01015794</td>\n",
              "      <td>Luton 018F</td>\n",
              "      <td>Possession of weapons</td>\n",
              "      <td>Offender sent to prison</td>\n",
              "      <td>None</td>\n",
              "      <td>2011</td>\n",
              "      <td>Luton 018F</td>\n",
              "      <td>E01015794</td>\n",
              "      <td>Total</td>\n",
              "      <td>2505</td>\n",
              "      <td>1366</td>\n",
              "      <td>1139</td>\n",
              "      <td>2060</td>\n",
              "      <td>445</td>\n",
              "      <td>48</td>\n",
              "      <td>50.51</td>\n",
              "      <td>49.6</td>\n",
              "    </tr>\n",
              "    <tr>\n",
              "      <th>...</th>\n",
              "      <td>...</td>\n",
              "      <td>...</td>\n",
              "      <td>...</td>\n",
              "      <td>...</td>\n",
              "      <td>...</td>\n",
              "      <td>...</td>\n",
              "      <td>...</td>\n",
              "      <td>...</td>\n",
              "      <td>...</td>\n",
              "      <td>...</td>\n",
              "      <td>...</td>\n",
              "      <td>...</td>\n",
              "      <td>...</td>\n",
              "      <td>...</td>\n",
              "      <td>...</td>\n",
              "      <td>...</td>\n",
              "      <td>...</td>\n",
              "      <td>...</td>\n",
              "      <td>...</td>\n",
              "      <td>...</td>\n",
              "      <td>...</td>\n",
              "      <td>...</td>\n",
              "      <td>...</td>\n",
              "      <td>...</td>\n",
              "    </tr>\n",
              "    <tr>\n",
              "      <th>2998</th>\n",
              "      <td>dcda6a0d8c1f19dea3a86c39fb8d2df7298e95bc33c023...</td>\n",
              "      <td>2016-06</td>\n",
              "      <td>Metropolitan Police Service</td>\n",
              "      <td>Metropolitan Police Service</td>\n",
              "      <td>0.118440</td>\n",
              "      <td>51.610574</td>\n",
              "      <td>On or near Branch Road</td>\n",
              "      <td>E01003726</td>\n",
              "      <td>Redbridge 002D</td>\n",
              "      <td>Possession of weapons</td>\n",
              "      <td>Offender sent to prison</td>\n",
              "      <td>None</td>\n",
              "      <td>2011</td>\n",
              "      <td>Redbridge 002D</td>\n",
              "      <td>E01003726</td>\n",
              "      <td>Total</td>\n",
              "      <td>1524</td>\n",
              "      <td>722</td>\n",
              "      <td>802</td>\n",
              "      <td>1524</td>\n",
              "      <td>0</td>\n",
              "      <td>11</td>\n",
              "      <td>378.98</td>\n",
              "      <td>4.0</td>\n",
              "    </tr>\n",
              "    <tr>\n",
              "      <th>2999</th>\n",
              "      <td>19729bafa29ba938d0f275756eb77bb1fb6a4a6d6bbea6...</td>\n",
              "      <td>2016-06</td>\n",
              "      <td>North Wales Police</td>\n",
              "      <td>North Wales Police</td>\n",
              "      <td>-3.481766</td>\n",
              "      <td>53.324122</td>\n",
              "      <td>On or near Queen'S Walk</td>\n",
              "      <td>W01000228</td>\n",
              "      <td>Denbighshire 004C</td>\n",
              "      <td>Possession of weapons</td>\n",
              "      <td>Offender sent to prison</td>\n",
              "      <td>None</td>\n",
              "      <td>2011</td>\n",
              "      <td>Denbighshire 004C</td>\n",
              "      <td>W01000228</td>\n",
              "      <td>Total</td>\n",
              "      <td>1146</td>\n",
              "      <td>576</td>\n",
              "      <td>570</td>\n",
              "      <td>1116</td>\n",
              "      <td>30</td>\n",
              "      <td>14</td>\n",
              "      <td>50.92</td>\n",
              "      <td>22.5</td>\n",
              "    </tr>\n",
              "    <tr>\n",
              "      <th>3000</th>\n",
              "      <td>72d04cb4881510ff55d8d29553fb225e798f9961bfe80a...</td>\n",
              "      <td>2016-06</td>\n",
              "      <td>South Wales Police</td>\n",
              "      <td>South Wales Police</td>\n",
              "      <td>-3.966052</td>\n",
              "      <td>51.618864</td>\n",
              "      <td>On or near Uplands Terrace</td>\n",
              "      <td>W01000869</td>\n",
              "      <td>Swansea 024C</td>\n",
              "      <td>Possession of weapons</td>\n",
              "      <td>Offender sent to prison</td>\n",
              "      <td>None</td>\n",
              "      <td>2011</td>\n",
              "      <td>Swansea 024C</td>\n",
              "      <td>W01000869</td>\n",
              "      <td>Total</td>\n",
              "      <td>1590</td>\n",
              "      <td>840</td>\n",
              "      <td>750</td>\n",
              "      <td>1543</td>\n",
              "      <td>47</td>\n",
              "      <td>22</td>\n",
              "      <td>38.12</td>\n",
              "      <td>41.7</td>\n",
              "    </tr>\n",
              "    <tr>\n",
              "      <th>3001</th>\n",
              "      <td>2a6c9ef479f29afd923e7e30496a03287ac92e8cac4d7b...</td>\n",
              "      <td>2016-06</td>\n",
              "      <td>Thames Valley Police</td>\n",
              "      <td>Thames Valley Police</td>\n",
              "      <td>-0.747321</td>\n",
              "      <td>51.630486</td>\n",
              "      <td>On or near Priory Avenue</td>\n",
              "      <td>E01017923</td>\n",
              "      <td>Wycombe 008D</td>\n",
              "      <td>Possession of weapons</td>\n",
              "      <td>Offender sent to prison</td>\n",
              "      <td>None</td>\n",
              "      <td>2011</td>\n",
              "      <td>Wycombe 008D</td>\n",
              "      <td>E01017923</td>\n",
              "      <td>Total</td>\n",
              "      <td>1498</td>\n",
              "      <td>800</td>\n",
              "      <td>698</td>\n",
              "      <td>1475</td>\n",
              "      <td>23</td>\n",
              "      <td>17</td>\n",
              "      <td>24.52</td>\n",
              "      <td>61.1</td>\n",
              "    </tr>\n",
              "    <tr>\n",
              "      <th>3002</th>\n",
              "      <td>0fad76cca16221c8bba04696ce718ad74b496d1f3f6896...</td>\n",
              "      <td>2016-06</td>\n",
              "      <td>West Yorkshire Police</td>\n",
              "      <td>West Yorkshire Police</td>\n",
              "      <td>-1.509825</td>\n",
              "      <td>53.691752</td>\n",
              "      <td>On or near Cyprus Mount</td>\n",
              "      <td>E01011923</td>\n",
              "      <td>Wakefield 019B</td>\n",
              "      <td>Possession of weapons</td>\n",
              "      <td>Offender sent to prison</td>\n",
              "      <td>None</td>\n",
              "      <td>2011</td>\n",
              "      <td>Wakefield 019B</td>\n",
              "      <td>E01011923</td>\n",
              "      <td>Total</td>\n",
              "      <td>1633</td>\n",
              "      <td>855</td>\n",
              "      <td>778</td>\n",
              "      <td>1633</td>\n",
              "      <td>0</td>\n",
              "      <td>28</td>\n",
              "      <td>53.53</td>\n",
              "      <td>30.5</td>\n",
              "    </tr>\n",
              "  </tbody>\n",
              "</table>\n",
              "<p>3003 rows × 24 columns</p>\n",
              "</div>"
            ],
            "text/plain": [
              "                                                    _c0  ... Variable: Density (number of persons per hectare); measures: Value\n",
              "0     7f0e77c4fd58992c53fc335aff1725c421aaa9e898b5ff...  ...                                               18.3                \n",
              "1     56c719fdbd4a5071e6f5646bc52b739d5b9b0cad387797...  ...                                               18.3                \n",
              "2     95e36cb48e7ab379257dcce4be68a5a262a78502656bf5...  ...                                               68.8                \n",
              "3     6877bc0fce36b40bdda3e86aaf424df2a88981a514e833...  ...                                               49.6                \n",
              "4     9d3938e6d2b1ca53eaf023f9c6d1dc692ebd734791a05e...  ...                                               49.6                \n",
              "...                                                 ...  ...                                                ...                \n",
              "2998  dcda6a0d8c1f19dea3a86c39fb8d2df7298e95bc33c023...  ...                                                4.0                \n",
              "2999  19729bafa29ba938d0f275756eb77bb1fb6a4a6d6bbea6...  ...                                               22.5                \n",
              "3000  72d04cb4881510ff55d8d29553fb225e798f9961bfe80a...  ...                                               41.7                \n",
              "3001  2a6c9ef479f29afd923e7e30496a03287ac92e8cac4d7b...  ...                                               61.1                \n",
              "3002  0fad76cca16221c8bba04696ce718ad74b496d1f3f6896...  ...                                               30.5                \n",
              "\n",
              "[3003 rows x 24 columns]"
            ]
          },
          "metadata": {
            "tags": []
          },
          "execution_count": 17
        }
      ]
    },
    {
      "cell_type": "code",
      "metadata": {
        "id": "YEEaev4Z7Mau"
      },
      "source": [
        "#since we only need the name of city , we are removing the code attached with the city\r\n",
        "df_mer['geography_name']=(df_mer['geography']).map(lambda x:x.split()[0])"
      ],
      "execution_count": 18,
      "outputs": []
    },
    {
      "cell_type": "code",
      "metadata": {
        "colab": {
          "base_uri": "https://localhost:8080/"
        },
        "id": "thl-bG6BAhdv",
        "outputId": "9d2dc5cb-b357-4418-e904-589e28a39780"
      },
      "source": [
        "#count of residents according to the city\r\n",
        "df_mer.groupby('geography_name')['Variable: All usual residents; measures: Value'].sum()"
      ],
      "execution_count": 19,
      "outputs": [
        {
          "output_type": "execute_result",
          "data": {
            "text/plain": [
              "geography_name\n",
              "Adur          1395\n",
              "Allerdale    12950\n",
              "Amber        17940\n",
              "Arun          8507\n",
              "Ashfield     19114\n",
              "             ...  \n",
              "Wrexham      16584\n",
              "Wychavon      6390\n",
              "Wycombe      12814\n",
              "Wyre          9064\n",
              "York         25930\n",
              "Name: Variable: All usual residents; measures: Value, Length: 267, dtype: int32"
            ]
          },
          "metadata": {
            "tags": []
          },
          "execution_count": 19
        }
      ]
    },
    {
      "cell_type": "code",
      "metadata": {
        "colab": {
          "base_uri": "https://localhost:8080/"
        },
        "id": "gCMDJopgA4Bl",
        "outputId": "65c6127d-cb36-44d2-ebfd-88b25ddac5b4"
      },
      "source": [
        "#count of firearm incidents according to city\r\n",
        "(df_mer.groupby('geography_name')['_c9'].count())"
      ],
      "execution_count": 20,
      "outputs": [
        {
          "output_type": "execute_result",
          "data": {
            "text/plain": [
              "geography_name\n",
              "Adur          1\n",
              "Allerdale     8\n",
              "Amber        12\n",
              "Arun          5\n",
              "Ashfield     11\n",
              "             ..\n",
              "Wrexham      10\n",
              "Wychavon      3\n",
              "Wycombe       7\n",
              "Wyre          5\n",
              "York         15\n",
              "Name: _c9, Length: 267, dtype: int64"
            ]
          },
          "metadata": {
            "tags": []
          },
          "execution_count": 20
        }
      ]
    },
    {
      "cell_type": "markdown",
      "metadata": {
        "id": "Ge_unxWyCGH4"
      },
      "source": [
        "Firearm incident count"
      ]
    },
    {
      "cell_type": "code",
      "metadata": {
        "colab": {
          "base_uri": "https://localhost:8080/",
          "height": 349
        },
        "id": "rpRQ0Wmw7bPI",
        "outputId": "28c579e9-7fa7-4d2d-e527-d2a403300e72"
      },
      "source": [
        "#plot of top 10 firearm incidents w.r.t cities \r\n",
        "import matplotlib.pyplot as plt\r\n",
        "\r\n",
        "(df_mer.groupby('geography_name')['_c9'].count()).sort_values(ascending=False)[:10].plot.bar()"
      ],
      "execution_count": 21,
      "outputs": [
        {
          "output_type": "execute_result",
          "data": {
            "text/plain": [
              "<matplotlib.axes._subplots.AxesSubplot at 0x7f185735ba58>"
            ]
          },
          "metadata": {
            "tags": []
          },
          "execution_count": 21
        },
        {
          "output_type": "display_data",
          "data": {
            "image/png": "[encoded data removed]",
            "text/plain": [
              "<Figure size 432x288 with 1 Axes>"
            ]
          },
          "metadata": {
            "tags": [],
            "needs_background": "light"
          }
        }
      ]
    },
    {
      "cell_type": "markdown",
      "metadata": {
        "id": "nVHP_gN2CO2C"
      },
      "source": [
        "Firearm incident per head percentage"
      ]
    },
    {
      "cell_type": "code",
      "metadata": {
        "colab": {
          "base_uri": "https://localhost:8080/",
          "height": 378
        },
        "id": "ZJcSRhW_BCAy",
        "outputId": "67f8e473-8993-4a8e-9901-e16d30ae3fa2"
      },
      "source": [
        "#plot of top 10 firearm incidents per head percent w.r.t cities\r\n",
        "(((df_mer.groupby('geography_name')['_c9'].count())/df_mer.groupby('geography_name')['Variable: All usual residents; measures: Value'].sum())*100).sort_values(ascending=False)[:10].plot.bar()"
      ],
      "execution_count": 22,
      "outputs": [
        {
          "output_type": "execute_result",
          "data": {
            "text/plain": [
              "<matplotlib.axes._subplots.AxesSubplot at 0x7f1857ce35c0>"
            ]
          },
          "metadata": {
            "tags": []
          },
          "execution_count": 22
        },
        {
          "output_type": "display_data",
          "data": {
            "image/png": "[encoded data removed]",
            "text/plain": [
              "<Figure size 432x288 with 1 Axes>"
            ]
          },
          "metadata": {
            "tags": [],
            "needs_background": "light"
          }
        }
      ]
    },
    {
      "cell_type": "code",
      "metadata": {
        "id": "6xV-Kb-x-7UP"
      },
      "source": [
        "#list of distinct crime type \r\n",
        "list_crime_type=dataset.select('_c9').distinct().collect()"
      ],
      "execution_count": 23,
      "outputs": []
    },
    {
      "cell_type": "code",
      "metadata": {
        "colab": {
          "base_uri": "https://localhost:8080/"
        },
        "id": "dIZuH2I0DHdK",
        "outputId": "1246f70d-24cf-4034-d9dc-14216299d385"
      },
      "source": [
        "#list of outcome category\r\n",
        "dataset.select('_c10').distinct().show()"
      ],
      "execution_count": 24,
      "outputs": [
        {
          "output_type": "stream",
          "text": [
            "+--------------------+\n",
            "|                _c10|\n",
            "+--------------------+\n",
            "|Offender ordered ...|\n",
            "|Offender given su...|\n",
            "|Court result unav...|\n",
            "|Defendant sent to...|\n",
            "|Offender given pe...|\n",
            "|Suspect charged a...|\n",
            "|                null|\n",
            "|    Local resolution|\n",
            "|Offender given a ...|\n",
            "|Offender given co...|\n",
            "|Investigation com...|\n",
            "|Offender given ab...|\n",
            "| Under investigation|\n",
            "|Awaiting court ou...|\n",
            "|Defendant found n...|\n",
            "|Offender sent to ...|\n",
            "|Further investiga...|\n",
            "|Action to be take...|\n",
            "|Offender given co...|\n",
            "|Offender given a ...|\n",
            "+--------------------+\n",
            "only showing top 20 rows\n",
            "\n"
          ],
          "name": "stdout"
        }
      ]
    },
    {
      "cell_type": "markdown",
      "metadata": {
        "id": "ja5mnuy_qGNN"
      },
      "source": [
        "Crimes involving firearms are closely associated with drugs offences"
      ]
    },
    {
      "cell_type": "code",
      "metadata": {
        "id": "Aq3obEGaDxBv"
      },
      "source": [
        "#fitering out the data with drug cases\r\n",
        "df_drugs = dataset.filter(dataset._c9=='Drugs').toPandas()"
      ],
      "execution_count": 25,
      "outputs": []
    },
    {
      "cell_type": "markdown",
      "metadata": {
        "id": "GF_0F1iIHXUw"
      },
      "source": [
        "No cases of sent to prison under drugs"
      ]
    },
    {
      "cell_type": "code",
      "metadata": {
        "colab": {
          "base_uri": "https://localhost:8080/",
          "height": 48
        },
        "id": "3XiHJzLAFYLY",
        "outputId": "f05d3780-cbdb-4b03-985a-e8bb37069c41"
      },
      "source": [
        "df_drugs[df_drugs['_c9']=='Offender sent to prison']"
      ],
      "execution_count": 26,
      "outputs": [
        {
          "output_type": "execute_result",
          "data": {
            "text/html": [
              "<div>\n",
              "<style scoped>\n",
              "    .dataframe tbody tr th:only-of-type {\n",
              "        vertical-align: middle;\n",
              "    }\n",
              "\n",
              "    .dataframe tbody tr th {\n",
              "        vertical-align: top;\n",
              "    }\n",
              "\n",
              "    .dataframe thead th {\n",
              "        text-align: right;\n",
              "    }\n",
              "</style>\n",
              "<table border=\"1\" class=\"dataframe\">\n",
              "  <thead>\n",
              "    <tr style=\"text-align: right;\">\n",
              "      <th></th>\n",
              "      <th>_c0</th>\n",
              "      <th>_c1</th>\n",
              "      <th>_c2</th>\n",
              "      <th>_c3</th>\n",
              "      <th>_c4</th>\n",
              "      <th>_c5</th>\n",
              "      <th>_c6</th>\n",
              "      <th>_c7</th>\n",
              "      <th>_c8</th>\n",
              "      <th>_c9</th>\n",
              "      <th>_c10</th>\n",
              "      <th>_c11</th>\n",
              "    </tr>\n",
              "  </thead>\n",
              "  <tbody>\n",
              "  </tbody>\n",
              "</table>\n",
              "</div>"
            ],
            "text/plain": [
              "Empty DataFrame\n",
              "Columns: [_c0, _c1, _c2, _c3, _c4, _c5, _c6, _c7, _c8, _c9, _c10, _c11]\n",
              "Index: []"
            ]
          },
          "metadata": {
            "tags": []
          },
          "execution_count": 26
        }
      ]
    },
    {
      "cell_type": "markdown",
      "metadata": {
        "id": "g0V4xttIqUYT"
      },
      "source": [
        "Firearm incident is considered only when the offender is sent to jail , since there are no cases of drugs and been sent to jail, it can be concluded that there is no such association"
      ]
    },
    {
      "cell_type": "markdown",
      "metadata": {
        "id": "nYH0MuLaqxsO"
      },
      "source": [
        "Violent Crime is increasing"
      ]
    },
    {
      "cell_type": "code",
      "metadata": {
        "colab": {
          "base_uri": "https://localhost:8080/"
        },
        "id": "mcD9xA9IFFql",
        "outputId": "6edd360c-a4ac-4989-fc23-b14de65f51d6"
      },
      "source": [
        "#list of crime types\r\n",
        "list_crime_type"
      ],
      "execution_count": 27,
      "outputs": [
        {
          "output_type": "execute_result",
          "data": {
            "text/plain": [
              "[Row(_c9='Bicycle theft'),\n",
              " Row(_c9='Public order'),\n",
              " Row(_c9='Drugs'),\n",
              " Row(_c9='Other crime'),\n",
              " Row(_c9='Robbery'),\n",
              " Row(_c9='Criminal damage and arson'),\n",
              " Row(_c9='Theft from the person'),\n",
              " Row(_c9='Shoplifting'),\n",
              " Row(_c9='Burglary'),\n",
              " Row(_c9='Other theft'),\n",
              " Row(_c9='Possession of weapons'),\n",
              " Row(_c9='Violence and sexual offences'),\n",
              " Row(_c9='Vehicle crime'),\n",
              " Row(_c9='Anti-social behaviour')]"
            ]
          },
          "metadata": {
            "tags": []
          },
          "execution_count": 27
        }
      ]
    },
    {
      "cell_type": "markdown",
      "metadata": {
        "id": "ZNnCqfl7Gi0_"
      },
      "source": [
        "Violent crimes considered according to national insitiute of justice are Robbery, Violence and sexual assault,murder"
      ]
    },
    {
      "cell_type": "markdown",
      "metadata": {
        "id": "OyEOCavFrBDn"
      },
      "source": [
        "Hence filtering the data with only cases involving Robbery,crimanl damage and violence and assualt"
      ]
    },
    {
      "cell_type": "code",
      "metadata": {
        "id": "JOpd67b7EU60"
      },
      "source": [
        "df_rob = dataset.filter(dataset._c9==('Robbery')).toPandas()"
      ],
      "execution_count": 28,
      "outputs": []
    },
    {
      "cell_type": "code",
      "metadata": {
        "id": "nW0YqviyHAuz"
      },
      "source": [
        "df_cd = dataset.filter(dataset._c9==('Criminal damage and arson')).toPandas()"
      ],
      "execution_count": 29,
      "outputs": []
    },
    {
      "cell_type": "code",
      "metadata": {
        "id": "liXlzxCJFx0j"
      },
      "source": [
        "df_vs = dataset.filter(dataset._c9==('Violence and sexual offences')).toPandas()"
      ],
      "execution_count": null,
      "outputs": []
    },
    {
      "cell_type": "code",
      "metadata": {
        "id": "2dQmf5cTjQNJ"
      },
      "source": [
        "df_vs = dataset.filter(dataset._c9==('Violence and sexual offences'))"
      ],
      "execution_count": 30,
      "outputs": []
    },
    {
      "cell_type": "code",
      "metadata": {
        "colab": {
          "base_uri": "https://localhost:8080/"
        },
        "id": "xgDTpf88kn2c",
        "outputId": "c80bf9c8-c3c5-4e9c-c281-63226fd4b262"
      },
      "source": [
        "df_vs.show()"
      ],
      "execution_count": 35,
      "outputs": [
        {
          "output_type": "stream",
          "text": [
            "+--------------------+-------+--------------------+--------------------+---------+---------+--------------------+---------+--------------------+--------------------+--------------------+----+\n",
            "|                 _c0|    _c1|                 _c2|                 _c3|      _c4|      _c5|                 _c6|      _c7|                 _c8|                 _c9|                _c10|_c11|\n",
            "+--------------------+-------+--------------------+--------------------+---------+---------+--------------------+---------+--------------------+--------------------+--------------------+----+\n",
            "|751b8fb098629781a...|2014-06|Avon and Somerset...|Avon and Somerset...|-2.512773|51.411751|On or near Westfi...|E01014399|Bath and North Ea...|Violence and sexu...|Unable to prosecu...|null|\n",
            "|81e1cf35259deb6cb...|2014-06|Avon and Somerset...|Avon and Somerset...|-2.515816|51.408717|On or near Caroli...|E01014399|Bath and North Ea...|Violence and sexu...|Unable to prosecu...|null|\n",
            "|d2120efc607527883...|2014-06|Avon and Somerset...|Avon and Somerset...|-2.501806|51.417391|On or near St Joh...|E01014400|Bath and North Ea...|Violence and sexu...|Unable to prosecu...|null|\n",
            "|102a4bf1dfa1c5def...|2014-06|Avon and Somerset...|Avon and Somerset...|-2.500214|51.416481|On or near Parkin...|E01014400|Bath and North Ea...|Violence and sexu...|Offender given a ...|null|\n",
            "|b5054d873213e7bf4...|2014-06|Avon and Somerset...|Avon and Somerset...|-2.502845|51.409879|On or near Camero...|E01014404|Bath and North Ea...|Violence and sexu...|Unable to prosecu...|null|\n",
            "|f8fb33778e12a9b40...|2014-06|Avon and Somerset...|Avon and Somerset...| -2.50692|51.407757|On or near Richmo...|E01014404|Bath and North Ea...|Violence and sexu...|Formal action is ...|null|\n",
            "|c7d6e9fc9b546a6af...|2014-06|Avon and Somerset...|Avon and Somerset...|-2.501717|51.407906|On or near Dudley...|E01014404|Bath and North Ea...|Violence and sexu...|Unable to prosecu...|null|\n",
            "|688b4a2f679b05222...|2014-06|Avon and Somerset...|Avon and Somerset...|-2.502845|51.409879|On or near Camero...|E01014404|Bath and North Ea...|Violence and sexu...|Unable to prosecu...|null|\n",
            "|a9cd8428ba16d7d22...|2014-06|Avon and Somerset...|Avon and Somerset...| -2.50831| 51.40741|On or near Farlei...|E01014404|Bath and North Ea...|Violence and sexu...|Investigation com...|null|\n",
            "|0e1f1f7e1a86da951...|2014-06|Avon and Somerset...|Avon and Somerset...| -2.33901|51.402222|On or near Rosela...|E01014411|Bath and North Ea...|Violence and sexu...|Investigation com...|null|\n",
            "|b9758172f42193a57...|2014-06|Avon and Somerset...|Avon and Somerset...|-2.388721|51.398885| On or near The Weal|E01014478|Bath and North Ea...|Violence and sexu...|Unable to prosecu...|null|\n",
            "|099e755653fcee2cf...|2014-06|Avon and Somerset...|Avon and Somerset...|-2.392587|  51.3972|On or near Harcou...|E01014480|Bath and North Ea...|Violence and sexu...|Court case unable...|null|\n",
            "|a741e7dbd5e2749e3...|2014-06|Avon and Somerset...|Avon and Somerset...|-2.389599|51.395672|On or near Church...|E01014480|Bath and North Ea...|Violence and sexu...|    Local resolution|null|\n",
            "|0edc7a1613dfd8076...|2014-06|Avon and Somerset...|Avon and Somerset...|-2.392587|  51.3972|On or near Harcou...|E01014480|Bath and North Ea...|Violence and sexu...|Court case unable...|null|\n",
            "|59d5f5feaadf44ed6...|2014-06|Avon and Somerset...|Avon and Somerset...|-2.352617|51.392067|On or near Petrol...|E01014465|Bath and North Ea...|Violence and sexu...|Unable to prosecu...|null|\n",
            "|bf8d006c33221d64a...|2014-06|Avon and Somerset...|Avon and Somerset...|-2.353854|51.395884|On or near Queenw...|E01014465|Bath and North Ea...|Violence and sexu...|Unable to prosecu...|null|\n",
            "|99c61ff850194af88...|2014-06|Avon and Somerset...|Avon and Somerset...|-2.354045|51.392719|On or near Snow Hill|E01014466|Bath and North Ea...|Violence and sexu...|Unable to prosecu...|null|\n",
            "|377f5055a56fcadda...|2014-06|Avon and Somerset...|Avon and Somerset...|-2.347342|51.393818|On or near St Sav...|E01014467|Bath and North Ea...|Violence and sexu...|Unable to prosecu...|null|\n",
            "|10041910fe9a2ce94...|2014-06|Avon and Somerset...|Avon and Somerset...|-2.356346|51.391003|On or near Thomas...|E01014468|Bath and North Ea...|Violence and sexu...|Unable to prosecu...|null|\n",
            "|6e0c3ef01975c5815...|2014-06|Avon and Somerset...|Avon and Somerset...|-2.353544|51.391138|On or near Bedfor...|E01014468|Bath and North Ea...|Violence and sexu...|Unable to prosecu...|null|\n",
            "+--------------------+-------+--------------------+--------------------+---------+---------+--------------------+---------+--------------------+--------------------+--------------------+----+\n",
            "only showing top 20 rows\n",
            "\n"
          ],
          "name": "stdout"
        }
      ]
    },
    {
      "cell_type": "code",
      "metadata": {
        "colab": {
          "base_uri": "https://localhost:8080/"
        },
        "id": "TLqw0jVAjgeU",
        "outputId": "39c18f36-183c-4a72-f5f7-6429fdf7bf42"
      },
      "source": [
        "from pyspark.sql import functions as F\r\n",
        "df2_vs = df_vs.select('_c9', F.split('_c1', '-')[0].alias('year'))\r\n",
        "df2_vs.show()"
      ],
      "execution_count": 41,
      "outputs": [
        {
          "output_type": "stream",
          "text": [
            "+--------------------+----+\n",
            "|                 _c9|year|\n",
            "+--------------------+----+\n",
            "|Violence and sexu...|2014|\n",
            "|Violence and sexu...|2014|\n",
            "|Violence and sexu...|2014|\n",
            "|Violence and sexu...|2014|\n",
            "|Violence and sexu...|2014|\n",
            "|Violence and sexu...|2014|\n",
            "|Violence and sexu...|2014|\n",
            "|Violence and sexu...|2014|\n",
            "|Violence and sexu...|2014|\n",
            "|Violence and sexu...|2014|\n",
            "|Violence and sexu...|2014|\n",
            "|Violence and sexu...|2014|\n",
            "|Violence and sexu...|2014|\n",
            "|Violence and sexu...|2014|\n",
            "|Violence and sexu...|2014|\n",
            "|Violence and sexu...|2014|\n",
            "|Violence and sexu...|2014|\n",
            "|Violence and sexu...|2014|\n",
            "|Violence and sexu...|2014|\n",
            "|Violence and sexu...|2014|\n",
            "+--------------------+----+\n",
            "only showing top 20 rows\n",
            "\n"
          ],
          "name": "stdout"
        }
      ]
    },
    {
      "cell_type": "code",
      "metadata": {
        "id": "CSB5cKo2mFZy"
      },
      "source": [
        "df_vsp=df2_vs.groupby('year').count().toPandas()"
      ],
      "execution_count": 46,
      "outputs": []
    },
    {
      "cell_type": "markdown",
      "metadata": {
        "id": "VHmriXujrTb2"
      },
      "source": [
        "Creating new column of year to get the total count of respective crime in the respective year"
      ]
    },
    {
      "cell_type": "code",
      "metadata": {
        "id": "013A6oWWHP5U"
      },
      "source": [
        "df_rob['year']=df_rob['_c1'].map(lambda x:x.split('-')[0])"
      ],
      "execution_count": 50,
      "outputs": []
    },
    {
      "cell_type": "code",
      "metadata": {
        "id": "evaD9nsSH39G"
      },
      "source": [
        "#count of robbery wrt year\r\n",
        "s1=df_rob.groupby('year')['_c9'].count()"
      ],
      "execution_count": 51,
      "outputs": []
    },
    {
      "cell_type": "code",
      "metadata": {
        "id": "3PHe17FSICgI"
      },
      "source": [
        "df_cd['year']=df_cd['_c1'].map(lambda x:x.split('-')[0])"
      ],
      "execution_count": 52,
      "outputs": []
    },
    {
      "cell_type": "code",
      "metadata": {
        "id": "08RGIBqYIRpW"
      },
      "source": [
        "#count of criminal damage year wise\r\n",
        "s2=df_cd.groupby('year')['_c9'].count()"
      ],
      "execution_count": 53,
      "outputs": []
    },
    {
      "cell_type": "code",
      "metadata": {
        "id": "ahjSgbk4Iho0"
      },
      "source": [
        "#count of violence and assualt year wise\r\n",
        "s3=df_vsp.groupby('year')['count'].sum()"
      ],
      "execution_count": 61,
      "outputs": []
    },
    {
      "cell_type": "markdown",
      "metadata": {
        "id": "1Nh1R1VvIqsE"
      },
      "source": [
        "From following result it can be seen that there was increase in violent crime in 2015 but showed a massive decrease in 2016 "
      ]
    },
    {
      "cell_type": "code",
      "metadata": {
        "colab": {
          "base_uri": "https://localhost:8080/"
        },
        "id": "G6o0qZJ7IUtT",
        "outputId": "2422d5ce-83f6-414e-f74c-80e8a06b0d73"
      },
      "source": [
        "#addition of these crime year wise will give us the total cases of considered violent crime year wise. \r\n",
        "s1+s2+s3"
      ],
      "execution_count": 62,
      "outputs": [
        {
          "output_type": "execute_result",
          "data": {
            "text/plain": [
              "year\n",
              "2014     861605\n",
              "2015    1649934\n",
              "2016     894547\n",
              "dtype: int64"
            ]
          },
          "metadata": {
            "tags": []
          },
          "execution_count": 62
        }
      ]
    },
    {
      "cell_type": "code",
      "metadata": {
        "id": "_5R9gIPEn9Ih"
      },
      "source": [
        ""
      ],
      "execution_count": null,
      "outputs": []
    }
  ]
}
